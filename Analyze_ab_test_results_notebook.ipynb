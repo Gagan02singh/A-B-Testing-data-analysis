{
 "cells": [
  {
   "cell_type": "markdown",
   "metadata": {},
   "source": [
    "## Analyze A/B Test Results\n",
    "\n",
    "You may either submit your notebook through the workspace here, or you may work from your local machine and submit through the next page.  Either way assure that your code passes the project [RUBRIC](https://review.udacity.com/#!/projects/37e27304-ad47-4eb0-a1ab-8c12f60e43d0/rubric).  **Please save regularly\n",
    "\n",
    "This project will assure you have mastered the subjects covered in the statistics lessons.  The hope is to have this project be as comprehensive of these topics as possible.  Good luck!\n",
    "\n",
    "## Table of Contents\n",
    "- [Introduction](#intro)\n",
    "- [Part I - Probability](#probability)\n",
    "- [Part II - A/B Test](#ab_test)\n",
    "- [Part III - Regression](#regression)\n",
    "\n",
    "\n",
    "<a id='intro'></a>\n",
    "### Introduction\n",
    "\n",
    "A/B tests are very commonly performed by data analysts and data scientists.  It is important that you get some practice working with the difficulties of these \n",
    "\n",
    "For this project, you will be working to understand the results of an A/B test run by an e-commerce website.  Your goal is to work through this notebook to help the company understand if they should implement the new page, keep the old page, or perhaps run the experiment longer to make their decision.\n",
    "\n",
    "**As you work through this notebook, follow along in the classroom and answer the corresponding quiz questions associated with each question.** The labels for each classroom concept are provided for each question.  This will assure you are on the right track as you work through the project, and you can feel more confident in your final submission meeting the criteria.  As a final check, assure you meet all the criteria on the [RUBRIC](https://review.udacity.com/#!/projects/37e27304-ad47-4eb0-a1ab-8c12f60e43d0/rubric).\n",
    "\n",
    "<a id='probability'></a>\n",
    "#### Part I - Probability\n",
    "\n",
    "To get started, let's import our libraries."
   ]
  },
  {
   "cell_type": "code",
   "execution_count": 1,
   "metadata": {},
   "outputs": [],
   "source": [
    "import pandas as pd\n",
    "import numpy as np\n",
    "import random\n",
    "import matplotlib.pyplot as plt\n",
    "%matplotlib inline\n",
    "#We are setting the seed to assure you get the same answers on quizzes as we set up\n",
    "random.seed(42)"
   ]
  },
  {
   "cell_type": "markdown",
   "metadata": {},
   "source": [
    "`1.` Now, read in the `ab_data.csv` data. Store it in `df`.  **Use your dataframe to answer the questions in Quiz 1 of the classroom.**\n",
    "\n",
    "a. Read in the dataset and take a look at the top few rows here:"
   ]
  },
  {
   "cell_type": "code",
   "execution_count": 2,
   "metadata": {},
   "outputs": [
    {
     "data": {
      "text/html": [
       "<div>\n",
       "<style>\n",
       "    .dataframe thead tr:only-child th {\n",
       "        text-align: right;\n",
       "    }\n",
       "\n",
       "    .dataframe thead th {\n",
       "        text-align: left;\n",
       "    }\n",
       "\n",
       "    .dataframe tbody tr th {\n",
       "        vertical-align: top;\n",
       "    }\n",
       "</style>\n",
       "<table border=\"1\" class=\"dataframe\">\n",
       "  <thead>\n",
       "    <tr style=\"text-align: right;\">\n",
       "      <th></th>\n",
       "      <th>user_id</th>\n",
       "      <th>timestamp</th>\n",
       "      <th>group</th>\n",
       "      <th>landing_page</th>\n",
       "      <th>converted</th>\n",
       "    </tr>\n",
       "  </thead>\n",
       "  <tbody>\n",
       "    <tr>\n",
       "      <th>0</th>\n",
       "      <td>851104</td>\n",
       "      <td>2017-01-21 22:11:48.556739</td>\n",
       "      <td>control</td>\n",
       "      <td>old_page</td>\n",
       "      <td>0</td>\n",
       "    </tr>\n",
       "    <tr>\n",
       "      <th>1</th>\n",
       "      <td>804228</td>\n",
       "      <td>2017-01-12 08:01:45.159739</td>\n",
       "      <td>control</td>\n",
       "      <td>old_page</td>\n",
       "      <td>0</td>\n",
       "    </tr>\n",
       "    <tr>\n",
       "      <th>2</th>\n",
       "      <td>661590</td>\n",
       "      <td>2017-01-11 16:55:06.154213</td>\n",
       "      <td>treatment</td>\n",
       "      <td>new_page</td>\n",
       "      <td>0</td>\n",
       "    </tr>\n",
       "    <tr>\n",
       "      <th>3</th>\n",
       "      <td>853541</td>\n",
       "      <td>2017-01-08 18:28:03.143765</td>\n",
       "      <td>treatment</td>\n",
       "      <td>new_page</td>\n",
       "      <td>0</td>\n",
       "    </tr>\n",
       "    <tr>\n",
       "      <th>4</th>\n",
       "      <td>864975</td>\n",
       "      <td>2017-01-21 01:52:26.210827</td>\n",
       "      <td>control</td>\n",
       "      <td>old_page</td>\n",
       "      <td>1</td>\n",
       "    </tr>\n",
       "    <tr>\n",
       "      <th>5</th>\n",
       "      <td>936923</td>\n",
       "      <td>2017-01-10 15:20:49.083499</td>\n",
       "      <td>control</td>\n",
       "      <td>old_page</td>\n",
       "      <td>0</td>\n",
       "    </tr>\n",
       "    <tr>\n",
       "      <th>6</th>\n",
       "      <td>679687</td>\n",
       "      <td>2017-01-19 03:26:46.940749</td>\n",
       "      <td>treatment</td>\n",
       "      <td>new_page</td>\n",
       "      <td>1</td>\n",
       "    </tr>\n",
       "    <tr>\n",
       "      <th>7</th>\n",
       "      <td>719014</td>\n",
       "      <td>2017-01-17 01:48:29.539573</td>\n",
       "      <td>control</td>\n",
       "      <td>old_page</td>\n",
       "      <td>0</td>\n",
       "    </tr>\n",
       "    <tr>\n",
       "      <th>8</th>\n",
       "      <td>817355</td>\n",
       "      <td>2017-01-04 17:58:08.979471</td>\n",
       "      <td>treatment</td>\n",
       "      <td>new_page</td>\n",
       "      <td>1</td>\n",
       "    </tr>\n",
       "    <tr>\n",
       "      <th>9</th>\n",
       "      <td>839785</td>\n",
       "      <td>2017-01-15 18:11:06.610965</td>\n",
       "      <td>treatment</td>\n",
       "      <td>new_page</td>\n",
       "      <td>1</td>\n",
       "    </tr>\n",
       "  </tbody>\n",
       "</table>\n",
       "</div>"
      ],
      "text/plain": [
       "   user_id                   timestamp      group landing_page  converted\n",
       "0   851104  2017-01-21 22:11:48.556739    control     old_page          0\n",
       "1   804228  2017-01-12 08:01:45.159739    control     old_page          0\n",
       "2   661590  2017-01-11 16:55:06.154213  treatment     new_page          0\n",
       "3   853541  2017-01-08 18:28:03.143765  treatment     new_page          0\n",
       "4   864975  2017-01-21 01:52:26.210827    control     old_page          1\n",
       "5   936923  2017-01-10 15:20:49.083499    control     old_page          0\n",
       "6   679687  2017-01-19 03:26:46.940749  treatment     new_page          1\n",
       "7   719014  2017-01-17 01:48:29.539573    control     old_page          0\n",
       "8   817355  2017-01-04 17:58:08.979471  treatment     new_page          1\n",
       "9   839785  2017-01-15 18:11:06.610965  treatment     new_page          1"
      ]
     },
     "execution_count": 2,
     "metadata": {},
     "output_type": "execute_result"
    }
   ],
   "source": [
    "df = pd.read_csv('ab_data.csv')\n",
    "df.head(10)\n"
   ]
  },
  {
   "cell_type": "markdown",
   "metadata": {},
   "source": [
    "b. Use the below cell to find the number of rows in the dataset."
   ]
  },
  {
   "cell_type": "code",
   "execution_count": 3,
   "metadata": {},
   "outputs": [
    {
     "data": {
      "text/plain": [
       "(294478, 5)"
      ]
     },
     "execution_count": 3,
     "metadata": {},
     "output_type": "execute_result"
    }
   ],
   "source": [
    "df.shape"
   ]
  },
  {
   "cell_type": "markdown",
   "metadata": {},
   "source": [
    "There are 294478 rows in the dataset."
   ]
  },
  {
   "cell_type": "markdown",
   "metadata": {},
   "source": [
    "c. The number of unique users in the dataset."
   ]
  },
  {
   "cell_type": "code",
   "execution_count": 4,
   "metadata": {},
   "outputs": [
    {
     "data": {
      "text/plain": [
       "290584"
      ]
     },
     "execution_count": 4,
     "metadata": {},
     "output_type": "execute_result"
    }
   ],
   "source": [
    "df['user_id'].nunique()"
   ]
  },
  {
   "cell_type": "markdown",
   "metadata": {},
   "source": [
    "There are 290584 unique user ids in the dataset."
   ]
  },
  {
   "cell_type": "markdown",
   "metadata": {
    "collapsed": true
   },
   "source": [
    "d. The proportion of users converted."
   ]
  },
  {
   "cell_type": "code",
   "execution_count": 5,
   "metadata": {},
   "outputs": [
    {
     "data": {
      "text/plain": [
       "0.11965919355605512"
      ]
     },
     "execution_count": 5,
     "metadata": {},
     "output_type": "execute_result"
    }
   ],
   "source": [
    "#df[df['converted'] == 1]['user_id'].count() / df.shape[0]\n",
    "(df['converted'] == 1).mean()"
   ]
  },
  {
   "cell_type": "markdown",
   "metadata": {},
   "source": [
    "Proportion of users converted is 0.119"
   ]
  },
  {
   "cell_type": "markdown",
   "metadata": {
    "collapsed": true
   },
   "source": [
    "e. The number of times the `new_page` and `treatment` don't line up."
   ]
  },
  {
   "cell_type": "code",
   "execution_count": 6,
   "metadata": {},
   "outputs": [
    {
     "data": {
      "text/plain": [
       "1965"
      ]
     },
     "execution_count": 6,
     "metadata": {},
     "output_type": "execute_result"
    }
   ],
   "source": [
    "df.query(\"group == 'treatment' and landing_page != 'new_page'\")['user_id'].count()"
   ]
  },
  {
   "cell_type": "code",
   "execution_count": 7,
   "metadata": {},
   "outputs": [
    {
     "data": {
      "text/plain": [
       "1928"
      ]
     },
     "execution_count": 7,
     "metadata": {},
     "output_type": "execute_result"
    }
   ],
   "source": [
    "df.query(\"group != 'treatment' and landing_page == 'new_page'\")['user_id'].count()"
   ]
  },
  {
   "cell_type": "code",
   "execution_count": 8,
   "metadata": {},
   "outputs": [
    {
     "data": {
      "text/plain": [
       "3893"
      ]
     },
     "execution_count": 8,
     "metadata": {},
     "output_type": "execute_result"
    }
   ],
   "source": [
    "1965+1928"
   ]
  },
  {
   "cell_type": "markdown",
   "metadata": {},
   "source": [
    "There are 3893 rows where new_page and treatment don't line up"
   ]
  },
  {
   "cell_type": "markdown",
   "metadata": {},
   "source": [
    "f. Do any of the rows have missing values?"
   ]
  },
  {
   "cell_type": "code",
   "execution_count": 9,
   "metadata": {},
   "outputs": [
    {
     "name": "stdout",
     "output_type": "stream",
     "text": [
      "<class 'pandas.core.frame.DataFrame'>\n",
      "RangeIndex: 294478 entries, 0 to 294477\n",
      "Data columns (total 5 columns):\n",
      "user_id         294478 non-null int64\n",
      "timestamp       294478 non-null object\n",
      "group           294478 non-null object\n",
      "landing_page    294478 non-null object\n",
      "converted       294478 non-null int64\n",
      "dtypes: int64(2), object(3)\n",
      "memory usage: 11.2+ MB\n"
     ]
    }
   ],
   "source": [
    "df.info()"
   ]
  },
  {
   "cell_type": "markdown",
   "metadata": {},
   "source": [
    "There are NO missing values in our dataset"
   ]
  },
  {
   "cell_type": "markdown",
   "metadata": {},
   "source": [
    "`2.` For the rows where **treatment** is not aligned with **new_page** or **control** is not aligned with **old_page**, we cannot be sure if this row truly received the new or old page.  Use **Quiz 2** in the classroom to provide how we should handle these rows.  \n",
    "\n",
    "a. Now use the answer to the quiz to create a new dataset that meets the specifications from the quiz.  Store your new dataframe in **df2**."
   ]
  },
  {
   "cell_type": "code",
   "execution_count": 10,
   "metadata": {},
   "outputs": [
    {
     "data": {
      "text/plain": [
       "((145311, 5), (145274, 5))"
      ]
     },
     "execution_count": 10,
     "metadata": {},
     "output_type": "execute_result"
    }
   ],
   "source": [
    "#Creating seperate datafrae of records where treatment is aligned with new_page\n",
    "df2 = df.query(\"group == 'treatment' and landing_page == 'new_page'\" )\n",
    "\n",
    "#Creating seperate datafrae of records where control is aligned with old_page\n",
    "df3 = df.query(\"group == 'control' and landing_page == 'old_page'\")\n",
    "df2.shape,df3.shape"
   ]
  },
  {
   "cell_type": "code",
   "execution_count": 11,
   "metadata": {},
   "outputs": [
    {
     "data": {
      "text/plain": [
       "290585"
      ]
     },
     "execution_count": 11,
     "metadata": {},
     "output_type": "execute_result"
    }
   ],
   "source": [
    "145311+145274"
   ]
  },
  {
   "cell_type": "code",
   "execution_count": 12,
   "metadata": {},
   "outputs": [
    {
     "data": {
      "text/plain": [
       "(290585, 5)"
      ]
     },
     "execution_count": 12,
     "metadata": {},
     "output_type": "execute_result"
    }
   ],
   "source": [
    "#Creating combined dataframe of only required data\n",
    "df2 = df2.append(df3,ignore_index=True)\n",
    "df2.shape"
   ]
  },
  {
   "cell_type": "code",
   "execution_count": 13,
   "metadata": {},
   "outputs": [
    {
     "data": {
      "text/plain": [
       "0"
      ]
     },
     "execution_count": 13,
     "metadata": {},
     "output_type": "execute_result"
    }
   ],
   "source": [
    "# Double Check all of the correct rows were removed - this should be 0\n",
    "df2[((df2['group'] == 'treatment') == (df2['landing_page'] == 'new_page')) == False].shape[0]"
   ]
  },
  {
   "cell_type": "markdown",
   "metadata": {},
   "source": [
    "`3.` Use **df2** and the cells below to answer questions for **Quiz3** in the classroom."
   ]
  },
  {
   "cell_type": "markdown",
   "metadata": {},
   "source": [
    "a. How many unique **user_id**s are in **df2**?"
   ]
  },
  {
   "cell_type": "code",
   "execution_count": 14,
   "metadata": {},
   "outputs": [
    {
     "data": {
      "text/plain": [
       "290584"
      ]
     },
     "execution_count": 14,
     "metadata": {},
     "output_type": "execute_result"
    }
   ],
   "source": [
    "df2['user_id'].nunique()"
   ]
  },
  {
   "cell_type": "markdown",
   "metadata": {},
   "source": [
    "There are 290584 unique USER_IDS in DF2"
   ]
  },
  {
   "cell_type": "markdown",
   "metadata": {
    "collapsed": true
   },
   "source": [
    "b. There is one **user_id** repeated in **df2**.  What is it?"
   ]
  },
  {
   "cell_type": "code",
   "execution_count": 15,
   "metadata": {},
   "outputs": [
    {
     "data": {
      "text/plain": [
       "1"
      ]
     },
     "execution_count": 15,
     "metadata": {},
     "output_type": "execute_result"
    }
   ],
   "source": [
    "#Computing the number of duplicated records in DF2\n",
    "sum(df2['user_id'].duplicated())"
   ]
  },
  {
   "cell_type": "code",
   "execution_count": 16,
   "metadata": {},
   "outputs": [
    {
     "data": {
      "text/plain": [
       "1404    773192\n",
       "Name: user_id, dtype: int64"
      ]
     },
     "execution_count": 16,
     "metadata": {},
     "output_type": "execute_result"
    }
   ],
   "source": [
    "#Identifying the dulicated record\n",
    "df2[df2['user_id'].duplicated()]['user_id']"
   ]
  },
  {
   "cell_type": "markdown",
   "metadata": {},
   "source": [
    "c. What is the row information for the repeat **user_id**? "
   ]
  },
  {
   "cell_type": "code",
   "execution_count": 17,
   "metadata": {},
   "outputs": [
    {
     "data": {
      "text/html": [
       "<div>\n",
       "<style>\n",
       "    .dataframe thead tr:only-child th {\n",
       "        text-align: right;\n",
       "    }\n",
       "\n",
       "    .dataframe thead th {\n",
       "        text-align: left;\n",
       "    }\n",
       "\n",
       "    .dataframe tbody tr th {\n",
       "        vertical-align: top;\n",
       "    }\n",
       "</style>\n",
       "<table border=\"1\" class=\"dataframe\">\n",
       "  <thead>\n",
       "    <tr style=\"text-align: right;\">\n",
       "      <th></th>\n",
       "      <th>user_id</th>\n",
       "      <th>timestamp</th>\n",
       "      <th>group</th>\n",
       "      <th>landing_page</th>\n",
       "      <th>converted</th>\n",
       "    </tr>\n",
       "  </thead>\n",
       "  <tbody>\n",
       "    <tr>\n",
       "      <th>1404</th>\n",
       "      <td>773192</td>\n",
       "      <td>2017-01-14 02:55:59.590927</td>\n",
       "      <td>treatment</td>\n",
       "      <td>new_page</td>\n",
       "      <td>0</td>\n",
       "    </tr>\n",
       "  </tbody>\n",
       "</table>\n",
       "</div>"
      ],
      "text/plain": [
       "      user_id                   timestamp      group landing_page  converted\n",
       "1404   773192  2017-01-14 02:55:59.590927  treatment     new_page          0"
      ]
     },
     "execution_count": 17,
     "metadata": {},
     "output_type": "execute_result"
    }
   ],
   "source": [
    "df2[df2['user_id'].duplicated()]"
   ]
  },
  {
   "cell_type": "markdown",
   "metadata": {},
   "source": [
    "d. Remove **one** of the rows with a duplicate **user_id**, but keep your dataframe as **df2**."
   ]
  },
  {
   "cell_type": "code",
   "execution_count": 18,
   "metadata": {},
   "outputs": [],
   "source": [
    "#dropping the duplicated wor from data set.\n",
    "df2.drop_duplicates(inplace=True)"
   ]
  },
  {
   "cell_type": "markdown",
   "metadata": {},
   "source": [
    "`4.` Use **df2** in the below cells to answer the quiz questions related to **Quiz 4** in the classroom.\n",
    "\n",
    "a. What is the probability of an individual converting regardless of the page they receive?"
   ]
  },
  {
   "cell_type": "code",
   "execution_count": 19,
   "metadata": {},
   "outputs": [
    {
     "data": {
      "text/plain": [
       "0.11959667567149027"
      ]
     },
     "execution_count": 19,
     "metadata": {},
     "output_type": "execute_result"
    }
   ],
   "source": [
    "#probability of an individual converting regardless of the page they receive\n",
    "df2[df2['converted'] == 1]['user_id'].count() / df2.shape[0]"
   ]
  },
  {
   "cell_type": "markdown",
   "metadata": {},
   "source": [
    "b. Given that an individual was in the `control` group, what is the probability they converted?"
   ]
  },
  {
   "cell_type": "code",
   "execution_count": 20,
   "metadata": {},
   "outputs": [
    {
     "data": {
      "text/plain": [
       "0.1203863045004612"
      ]
     },
     "execution_count": 20,
     "metadata": {},
     "output_type": "execute_result"
    }
   ],
   "source": [
    "#probability of control user getting converted\n",
    "df2.query('group == \"control\" and converted == 1')['user_id'].count() / df2[df2['group'] == \"control\"]['user_id'].count()"
   ]
  },
  {
   "cell_type": "markdown",
   "metadata": {},
   "source": [
    "c. Given that an individual was in the `treatment` group, what is the probability they converted?"
   ]
  },
  {
   "cell_type": "code",
   "execution_count": 21,
   "metadata": {},
   "outputs": [
    {
     "data": {
      "text/plain": [
       "0.11880724790277405"
      ]
     },
     "execution_count": 21,
     "metadata": {},
     "output_type": "execute_result"
    }
   ],
   "source": [
    "#probability of treatment user getting converted\n",
    "df2.query('group == \"treatment\" and converted == 1')['user_id'].count() / df2[df2['group'] == \"treatment\"]['user_id'].count()"
   ]
  },
  {
   "cell_type": "markdown",
   "metadata": {},
   "source": [
    "d. What is the probability that an individual received the new page?"
   ]
  },
  {
   "cell_type": "code",
   "execution_count": 22,
   "metadata": {},
   "outputs": [
    {
     "data": {
      "text/plain": [
       "0.5000636646764286"
      ]
     },
     "execution_count": 22,
     "metadata": {},
     "output_type": "execute_result"
    }
   ],
   "source": [
    "#probability of users that received the new page\n",
    "df2[df2['landing_page'] == 'new_page']['user_id'].count() / df2.shape[0]"
   ]
  },
  {
   "cell_type": "markdown",
   "metadata": {},
   "source": [
    "e. Use the results in the previous two portions of this question to suggest if you think there is evidence that one page leads to more conversions?  Write your response below."
   ]
  },
  {
   "cell_type": "markdown",
   "metadata": {},
   "source": [
    "As probability of **CONTROL** users being converted is **more** than probability of **TREATMENT** users. That means, **old page leads to more conversions than new page**\n"
   ]
  },
  {
   "cell_type": "markdown",
   "metadata": {},
   "source": [
    "<a id='ab_test'></a>\n",
    "### Part II - A/B Test\n",
    "\n",
    "Notice that because of the time stamp associated with each event, you could technically run a hypothesis test continuously as each observation was observed.  \n",
    "\n",
    "However, then the hard question is do you stop as soon as one page is considered significantly better than another or does it need to happen consistently for a certain amount of time?  How long do you run to render a decision that neither page is better than another?  \n",
    "\n",
    "These questions are the difficult parts associated with A/B tests in general.  \n",
    "\n",
    "\n",
    "`1.` For now, consider you need to make the decision just based on all the data provided.  If you want to assume that the old page is better unless the new page proves to be definitely better at a Type I error rate of 5%, what should your null and alternative hypotheses be?  You can state your hypothesis in terms of words or in terms of **$p_{old}$** and **$p_{new}$**, which are the converted rates for the old and new pages."
   ]
  },
  {
   "cell_type": "markdown",
   "metadata": {},
   "source": [
    "$$H_0 = p_{new} \\leq p_{old} $$\n",
    "$$H_1 = p_{new} > p_{old} $$"
   ]
  },
  {
   "cell_type": "markdown",
   "metadata": {},
   "source": [
    "`2.` Assume under the null hypothesis, $p_{new}$ and $p_{old}$ both have \"true\" success rates equal to the **converted** success rate regardless of page - that is $p_{new}$ and $p_{old}$ are equal. Furthermore, assume they are equal to the **converted** rate in **ab_data.csv** regardless of the page. <br><br>\n",
    "\n",
    "Use a sample size for each page equal to the ones in **ab_data.csv**.  <br><br>\n",
    "\n",
    "Perform the sampling distribution for the difference in **converted** between the two pages over 10,000 iterations of calculating an estimate from the null.  <br><br>\n",
    "\n",
    "Use the cells below to provide the necessary parts of this simulation.  If this doesn't make complete sense right now, don't worry - you are going to work through the problems below to complete this problem.  You can use **Quiz 5** in the classroom to make sure you are on the right track.<br><br>"
   ]
  },
  {
   "cell_type": "markdown",
   "metadata": {},
   "source": [
    "a. What is the **convert rate** for $p_{new}$ under the null? "
   ]
  },
  {
   "cell_type": "code",
   "execution_count": 24,
   "metadata": {},
   "outputs": [
    {
     "data": {
      "text/plain": [
       "0.11959667567149027"
      ]
     },
     "execution_count": 24,
     "metadata": {},
     "output_type": "execute_result"
    }
   ],
   "source": [
    "df2[df2['converted'] == 1]['user_id'].count()/ df2.shape[0]"
   ]
  },
  {
   "cell_type": "markdown",
   "metadata": {},
   "source": [
    "Convert rate of $P_{new}$ under the null is 0.119"
   ]
  },
  {
   "cell_type": "markdown",
   "metadata": {},
   "source": [
    "b. What is the **convert rate** for $p_{old}$ under the null? <br><br>"
   ]
  },
  {
   "cell_type": "code",
   "execution_count": 25,
   "metadata": {},
   "outputs": [
    {
     "data": {
      "text/plain": [
       "0.11959667567149027"
      ]
     },
     "execution_count": 25,
     "metadata": {},
     "output_type": "execute_result"
    }
   ],
   "source": [
    "df2[df2['converted'] == 1]['user_id'].count()/ df2.shape[0]"
   ]
  },
  {
   "cell_type": "markdown",
   "metadata": {},
   "source": [
    "Convert rate of $P_{old}$ under the null is 0.119"
   ]
  },
  {
   "cell_type": "markdown",
   "metadata": {},
   "source": [
    "c. What is $n_{new}$?"
   ]
  },
  {
   "cell_type": "code",
   "execution_count": 26,
   "metadata": {},
   "outputs": [
    {
     "data": {
      "text/plain": [
       "145311"
      ]
     },
     "execution_count": 26,
     "metadata": {},
     "output_type": "execute_result"
    }
   ],
   "source": [
    "df2[df2['landing_page'] == 'new_page']['user_id'].count()"
   ]
  },
  {
   "cell_type": "markdown",
   "metadata": {},
   "source": [
    "d. What is $n_{old}$?"
   ]
  },
  {
   "cell_type": "code",
   "execution_count": 27,
   "metadata": {},
   "outputs": [
    {
     "data": {
      "text/plain": [
       "145274"
      ]
     },
     "execution_count": 27,
     "metadata": {},
     "output_type": "execute_result"
    }
   ],
   "source": [
    "df2[df2['landing_page'] == 'old_page']['user_id'].count()"
   ]
  },
  {
   "cell_type": "markdown",
   "metadata": {},
   "source": [
    "e. Simulate $n_{new}$ transactions with a convert rate of $p_{new}$ under the null.  Store these $n_{new}$ 1's and 0's in **new_page_converted**."
   ]
  },
  {
   "cell_type": "code",
   "execution_count": 28,
   "metadata": {},
   "outputs": [
    {
     "data": {
      "text/plain": [
       "86014     0\n",
       "250871    0\n",
       "117656    0\n",
       "263945    0\n",
       "128293    1\n",
       "87013     0\n",
       "79498     0\n",
       "249020    0\n",
       "103360    0\n",
       "9476      0\n",
       "97534     0\n",
       "39878     0\n",
       "70146     0\n",
       "249602    0\n",
       "223156    0\n",
       "7947      0\n",
       "201304    0\n",
       "180082    0\n",
       "117829    0\n",
       "150277    0\n",
       "234552    0\n",
       "198745    1\n",
       "138059    1\n",
       "85753     1\n",
       "213663    1\n",
       "14588     0\n",
       "287694    0\n",
       "247635    0\n",
       "108101    0\n",
       "209440    0\n",
       "         ..\n",
       "22132     0\n",
       "139042    0\n",
       "36534     0\n",
       "15389     1\n",
       "45227     0\n",
       "83397     0\n",
       "58089     0\n",
       "44374     0\n",
       "274639    0\n",
       "256915    0\n",
       "67313     0\n",
       "246175    0\n",
       "48996     0\n",
       "172423    0\n",
       "214314    0\n",
       "106324    0\n",
       "221163    0\n",
       "58946     1\n",
       "9466      0\n",
       "140981    0\n",
       "231729    0\n",
       "97201     0\n",
       "259686    1\n",
       "12167     0\n",
       "251285    0\n",
       "151058    0\n",
       "3437      0\n",
       "105888    0\n",
       "76193     0\n",
       "239629    0\n",
       "Name: converted, Length: 145311, dtype: int64"
      ]
     },
     "execution_count": 28,
     "metadata": {},
     "output_type": "execute_result"
    }
   ],
   "source": [
    "sample_size = df2[df2['landing_page'] == 'new_page']['user_id'].count()\n",
    "\n",
    " \n",
    "#Simulating n_new transactions\n",
    "new_page_converted = df2['converted'].sample(sample_size,replace = True)\n",
    "new_page_converted"
   ]
  },
  {
   "cell_type": "markdown",
   "metadata": {},
   "source": [
    "f. Simulate $n_{old}$ transactions with a convert rate of $p_{old}$ under the null.  Store these $n_{old}$ 1's and 0's in **old_page_converted**."
   ]
  },
  {
   "cell_type": "code",
   "execution_count": 29,
   "metadata": {},
   "outputs": [
    {
     "data": {
      "text/plain": [
       "78035     0\n",
       "178241    0\n",
       "230178    0\n",
       "9957      0\n",
       "166221    0\n",
       "93859     0\n",
       "261925    0\n",
       "15796     0\n",
       "155500    0\n",
       "71881     0\n",
       "146087    0\n",
       "127600    0\n",
       "212234    0\n",
       "176465    0\n",
       "180400    1\n",
       "67305     0\n",
       "140570    0\n",
       "272348    0\n",
       "109194    1\n",
       "249798    0\n",
       "148983    0\n",
       "85262     0\n",
       "38767     0\n",
       "204366    0\n",
       "57775     0\n",
       "261697    0\n",
       "102934    0\n",
       "202036    0\n",
       "38975     0\n",
       "67661     1\n",
       "         ..\n",
       "30684     0\n",
       "125660    0\n",
       "192242    0\n",
       "215130    1\n",
       "17971     0\n",
       "211199    0\n",
       "95569     0\n",
       "289411    0\n",
       "21454     0\n",
       "106009    0\n",
       "47147     0\n",
       "47154     1\n",
       "146754    1\n",
       "170229    0\n",
       "178237    0\n",
       "196563    1\n",
       "43171     0\n",
       "37349     0\n",
       "157059    0\n",
       "283963    0\n",
       "178111    0\n",
       "262938    0\n",
       "247347    0\n",
       "63841     0\n",
       "244225    0\n",
       "37124     0\n",
       "242921    0\n",
       "137693    0\n",
       "282469    0\n",
       "90944     0\n",
       "Name: converted, Length: 145274, dtype: int64"
      ]
     },
     "execution_count": 29,
     "metadata": {},
     "output_type": "execute_result"
    }
   ],
   "source": [
    "sample_size = df2[df2['landing_page'] == 'old_page']['user_id'].count()\n",
    "\n",
    "#Simulating N_old transactions of converted values\n",
    "old_page_converted = df2['converted'].sample(sample_size,replace = True)\n",
    "old_page_converted"
   ]
  },
  {
   "cell_type": "markdown",
   "metadata": {},
   "source": [
    "g. Find $p_{new}$ - $p_{old}$ for your simulated values from part (e) and (f)."
   ]
  },
  {
   "cell_type": "code",
   "execution_count": 30,
   "metadata": {},
   "outputs": [
    {
     "data": {
      "text/plain": [
       "0.11942660913488999"
      ]
     },
     "execution_count": 30,
     "metadata": {},
     "output_type": "execute_result"
    }
   ],
   "source": [
    "#computing Conversion probability of New page from simulated results\n",
    "p_new = new_page_converted[new_page_converted == 1].count()/new_page_converted.count()\n",
    "\n",
    "p_new"
   ]
  },
  {
   "cell_type": "code",
   "execution_count": 31,
   "metadata": {},
   "outputs": [
    {
     "data": {
      "text/plain": [
       "0.11918856780979391"
      ]
     },
     "execution_count": 31,
     "metadata": {},
     "output_type": "execute_result"
    }
   ],
   "source": [
    "#computing Conversion probability of Old page from simulated results\n",
    "p_old = old_page_converted[old_page_converted == 1].count()/old_page_converted.count()\n",
    "\n",
    "p_old"
   ]
  },
  {
   "cell_type": "code",
   "execution_count": 32,
   "metadata": {},
   "outputs": [
    {
     "data": {
      "text/plain": [
       "0.00023804132509608333"
      ]
     },
     "execution_count": 32,
     "metadata": {},
     "output_type": "execute_result"
    }
   ],
   "source": [
    "p_new-p_old"
   ]
  },
  {
   "cell_type": "markdown",
   "metadata": {},
   "source": [
    "h. Simulate 10,000 $p_{new}$ - $p_{old}$ values using this same process similarly to the one you calculated in parts **a. through g.** above.  Store all 10,000 values in **p_diffs**."
   ]
  },
  {
   "cell_type": "code",
   "execution_count": 33,
   "metadata": {},
   "outputs": [
    {
     "data": {
      "text/plain": [
       "[-0.0023840982500542562,\n",
       " 0.00053415466412178036,\n",
       " 0.0010500629218829771,\n",
       " 0.0010776584442748066,\n",
       " 0.0010982126766519856,\n",
       " -0.0028246240460300664,\n",
       " 0.0012151785933692677,\n",
       " -0.00017497132685814765,\n",
       " -0.0023429932907624573,\n",
       " 0.0011120463688391868,\n",
       " 0.001992948978631795,\n",
       " 0.00014866216711421909,\n",
       " -0.00012006247181095553,\n",
       " -0.00011305623642195173,\n",
       " -0.00031267025454341513,\n",
       " 7.9723313976196031e-05,\n",
       " -0.00069124941091992798,\n",
       " 0.0011741279687472184,\n",
       " 0.00022411824361348587,\n",
       " 9.9988345691789937e-05,\n",
       " -0.00069131075651480967,\n",
       " -0.0013176817294823229,\n",
       " -0.00060838572356800014,\n",
       " -0.0011730203846901099,\n",
       " -0.00077400267620104934,\n",
       " 0.00012111922666085961,\n",
       " 0.00086440879260103742,\n",
       " 0.0025160983377738172,\n",
       " 0.0012013273738692293,\n",
       " 0.0014216901775402357,\n",
       " -0.0012004862049670439,\n",
       " 0.00016231883344190734,\n",
       " 0.00097435445207905147,\n",
       " -0.00035398554158909412,\n",
       " -0.00031255106881622474,\n",
       " -0.00081513392646208327,\n",
       " -0.00055358027966645462,\n",
       " 5.2211922685924117e-05,\n",
       " -0.0013172417939304459,\n",
       " -0.0018406155026766124,\n",
       " 0.00096771453752807213,\n",
       " -0.00024422567162701858,\n",
       " -0.00077389400686155019,\n",
       " 0.00036852719510102605,\n",
       " 0.00071285338722189284,\n",
       " -0.0012764908863576868,\n",
       " 0.0008091388749096734,\n",
       " 0.0016970810219856247,\n",
       " 0.0014427632183769967,\n",
       " 0.0012633598973013638,\n",
       " 0.00078860567530786296,\n",
       " 0.00075431590369529067,\n",
       " 0.00050622962824886653,\n",
       " 4.5191665446656093e-05,\n",
       " -0.0016617082045538994,\n",
       " 0.00093284811732359529,\n",
       " 0.0015527824925688632,\n",
       " -3.7284668291864831e-05,\n",
       " -0.00038151095472963026,\n",
       " 0.00012792214522111545,\n",
       " -0.0019921148206547279,\n",
       " -0.0012347882456986009,\n",
       " 0.0010707591254940224,\n",
       " -9.2393334705259678e-05,\n",
       " -0.00049863111179976327,\n",
       " 0.002089015374909256,\n",
       " 0.0015939400337991322,\n",
       " 0.00059585241587896409,\n",
       " 0.0023373522909290734,\n",
       " -0.00048466947022894613,\n",
       " -0.0002508130042395279,\n",
       " 0.00027249935891177079,\n",
       " -0.00029197580366364939,\n",
       " 0.0014559904655404993,\n",
       " 0.001105073435344564,\n",
       " 0.0010844420827909457,\n",
       " 0.000231112209883505,\n",
       " 0.00037560353974133709,\n",
       " -0.0023430546363573529,\n",
       " -0.00034011504204496668,\n",
       " 0.00028621211264048818,\n",
       " -0.0010767033478392696,\n",
       " 0.00058893031159151787,\n",
       " 0.0021445955260376154,\n",
       " -8.541864847934344e-05,\n",
       " 0.00068521229381672544,\n",
       " 0.0010912450013512015,\n",
       " 0.00082302514903534463,\n",
       " 0.0018968913460107317,\n",
       " 7.2745122287706798e-05,\n",
       " 0.0014702360495790628,\n",
       " 0.00098802338752571051,\n",
       " -0.0022742191943649764,\n",
       " 0.00035528417335597973,\n",
       " -0.00053997268981467728,\n",
       " 0.00103625902612757,\n",
       " 0.00034135583367952971,\n",
       " 0.00042358152684465744,\n",
       " 0.00022433032409864551,\n",
       " -0.0020264676905934753,\n",
       " -0.00048489732529564955,\n",
       " 0.0021100866630147375,\n",
       " -0.0023225845350817176,\n",
       " -0.00010604123737653626,\n",
       " 0.0012494648595192809,\n",
       " -0.0013588883471885027,\n",
       " -0.0001128949851439548,\n",
       " 0.0001001233060005241,\n",
       " -0.00095954638341219645,\n",
       " 0.00043767462326166351,\n",
       " -0.0011730291483465216,\n",
       " -0.00047786129347485162,\n",
       " 0.00036883392307544838,\n",
       " -0.00072548660059403025,\n",
       " -0.00085642993346367324,\n",
       " 0.0011121725654915232,\n",
       " -0.0035610949188284308,\n",
       " 0.00092635893766288002,\n",
       " -0.0011868172695203849,\n",
       " -0.0011866490073172697,\n",
       " 0.0012911008963896187,\n",
       " -0.002239896120858037,\n",
       " -0.00045728953378483539,\n",
       " -0.0011453284620777521,\n",
       " -0.0013106421921989519,\n",
       " -0.00074606887667172384,\n",
       " -0.00067756470089172516,\n",
       " 0.00074060139723529372,\n",
       " -0.0013106018793794527,\n",
       " -2.947572934675069e-06,\n",
       " -0.00019573763972050018,\n",
       " 0.00085078367543642286,\n",
       " 0.0025987727301472474,\n",
       " 0.0017455567847731585,\n",
       " -3.0159294546749926e-06,\n",
       " 0.0018278157798326672,\n",
       " 0.00086427207956100982,\n",
       " -0.0026939786774784341,\n",
       " -0.00037438378088215651,\n",
       " 0.00043069993703574727,\n",
       " -0.00042961163302274175,\n",
       " 0.00043058250403982257,\n",
       " -0.0010557091799101997,\n",
       " 0.00023784677192374704,\n",
       " 0.00020351318202910251,\n",
       " 0.0013323530851091364,\n",
       " 0.00090545941722308676,\n",
       " -0.00098030568534941687,\n",
       " -0.00034705292091395668,\n",
       " -0.00099402895546582548,\n",
       " 0.00028611571241995981,\n",
       " 0.001854985388522884,\n",
       " 0.0016216161818299601,\n",
       " -0.0017099596177373028,\n",
       " -0.00039507998449320181,\n",
       " -0.0012145442467583895,\n",
       " -0.0010559913696466666,\n",
       " 0.00087773769817892089,\n",
       " -0.0014482534833200889,\n",
       " -0.00051920812968361818,\n",
       " 0.0010843684680770793,\n",
       " 0.00079575563466202648,\n",
       " 0.00063044716273467916,\n",
       " -0.0013658963353087722,\n",
       " 0.0021511758477250065,\n",
       " -0.0009391604132381326,\n",
       " -0.00064306109606269979,\n",
       " 0.0011120866816586861,\n",
       " 0.0011256732387350671,\n",
       " -0.00049161260729177481,\n",
       " -0.00087038456410934439,\n",
       " -0.0003127280946757377,\n",
       " -9.9224296966030079e-05,\n",
       " 0.00034111746222512118,\n",
       " 0.00029985650984920564,\n",
       " 0.0016558411023850916,\n",
       " 0.00080236750551250513,\n",
       " 0.0029359945339273025,\n",
       " 0.00057517198684946258,\n",
       " -9.6663603933594411e-06,\n",
       " 0.0014837752829108264,\n",
       " 0.00018960061693419628,\n",
       " -0.0024602396444849267,\n",
       " -0.0011731115267167858,\n",
       " -8.5474735880372577e-05,\n",
       " -0.00037476237083913788,\n",
       " 0.00045149254086732094,\n",
       " 0.00073363547466578916,\n",
       " 0.0023853302780324076,\n",
       " -0.0027627510211446216,\n",
       " -0.00041581650092376021,\n",
       " 0.00014163840441239195,\n",
       " 0.00091246389988079712,\n",
       " -0.0019922708137388584,\n",
       " 0.00010021620075849336,\n",
       " -0.0018405068333371133,\n",
       " 0.00059591200874256622,\n",
       " 0.0021652409004414702,\n",
       " 0.00077469486294423628,\n",
       " -0.00057414502843133874,\n",
       " -0.00083599663954497805,\n",
       " 0.00082997003882946674,\n",
       " -0.0020815798624694154,\n",
       " -0.0025360620418221902,\n",
       " 0.0021650516054629726,\n",
       " -0.00071910609027282801,\n",
       " 0.0017453096496623521,\n",
       " 0.00011394823453131364,\n",
       " 0.0017246695334523221,\n",
       " 0.00024482321088094283,\n",
       " -0.00017521320377511529,\n",
       " 0.00092637120678186469,\n",
       " -0.001751052307910117,\n",
       " -5.1051756690345673e-05,\n",
       " -0.00122785387229217,\n",
       " 0.0012497190055552193,\n",
       " 0.00083671336452610656,\n",
       " 0.00010026878269696338,\n",
       " -0.00014756685217609533,\n",
       " -0.0010973627440933886,\n",
       " -0.0016618238848185307,\n",
       " -0.00052618456864081398,\n",
       " 0.00075387772087470717,\n",
       " 0.000368711231885685,\n",
       " 0.001084541988474047,\n",
       " -0.0043047683329194425,\n",
       " 0.00089189739838464732,\n",
       " 0.0014011674943261304,\n",
       " -0.00082875904362668396,\n",
       " -0.00014770707067868205,\n",
       " 0.0010709133658468734,\n",
       " 8.6261570112808328e-05,\n",
       " 0.00080247442212072473,\n",
       " -0.00065669497688371214,\n",
       " -0.0011665785287740399,\n",
       " 8.6060006015339918e-05,\n",
       " 0.0010365271940137727,\n",
       " -0.00076014269304461313,\n",
       " 0.00067154160563878684,\n",
       " -0.00034695301523086919,\n",
       " 0.0014011937852953654,\n",
       " -0.00021647065068848559,\n",
       " -0.0010491095781787058,\n",
       " -0.00082205778348082292,\n",
       " -0.0017375113218470739,\n",
       " -0.00055353996684695539,\n",
       " 0.00023793616121915717,\n",
       " 0.00081608727016634075,\n",
       " 0.0011877916460000387,\n",
       " 0.0024059493614670552,\n",
       " 0.0014560483056728218,\n",
       " -0.0017995052851909749,\n",
       " -0.00069804707128633126,\n",
       " -0.00026451524158055406,\n",
       " 0.00098145182949473109,\n",
       " -0.00023004844410846881,\n",
       " 0.00050632953393195401,\n",
       " 0.00014864639253267531,\n",
       " -0.0022261167633405854,\n",
       " -0.0011175156010069104,\n",
       " 0.001573198259174749,\n",
       " 0.00098119943619008609,\n",
       " -0.00057437288349804216,\n",
       " -0.0021848347781892735,\n",
       " 0.00096736223854031189,\n",
       " -0.00021644260698795714,\n",
       " 0.0010432827888293972,\n",
       " -0.0019575463647682617,\n",
       " 0.00093982280354951153,\n",
       " 0.00014888651671837727,\n",
       " -0.00057421163222005911,\n",
       " -0.0018545859079038551,\n",
       " 0.00020326955238086919,\n",
       " 0.00050622086459244098,\n",
       " -0.0028660988316224351,\n",
       " -0.0010145271004419754,\n",
       " -0.0010487923338166061,\n",
       " -0.001785429716086806,\n",
       " -0.002225855606379501,\n",
       " 0.00083668006263173944,\n",
       " 0.0017314286337305196,\n",
       " 0.00024492837475788287,\n",
       " -0.00084946576362543436,\n",
       " 0.00095370031401877109,\n",
       " -0.0021227356509684187,\n",
       " 0.00051320256174348933,\n",
       " -0.0017923763586122077,\n",
       " -0.00014734425530323059,\n",
       " 0.00040975309285130879,\n",
       " 0.00090549271911745388,\n",
       " 0.00013483022765829744,\n",
       " 0.00016916907574678064,\n",
       " 0.00053384618341607848,\n",
       " -0.0021367989509536028,\n",
       " -0.00064977287259626593,\n",
       " -0.00056047609298466583,\n",
       " -0.0012075082149375915,\n",
       " -0.00050543578309129866,\n",
       " 0.0016831071112958368,\n",
       " -0.0034097550993970327,\n",
       " -0.00058124591130959136,\n",
       " 0.0023991078828185797,\n",
       " 0.0018968370113409821,\n",
       " -0.00054664064806619894,\n",
       " -0.00058116353293931333,\n",
       " 0.00034123840068361888,\n",
       " -0.0022190246441187444,\n",
       " 0.0012497628238372638,\n",
       " 0.002784367266565585,\n",
       " 0.0023370998976244145,\n",
       " 0.0017312778988402278,\n",
       " 0.00065785689561058402,\n",
       " 0.00086444209449540454,\n",
       " -0.00052611270665824106,\n",
       " 0.00027225923472609659,\n",
       " 0.0012084563004480103,\n",
       " 0.00049930752396140643,\n",
       " -0.00057416255574416208,\n",
       " -0.00048491485260848677,\n",
       " -0.0010559685841399907,\n",
       " -0.00035373665374699437,\n",
       " 0.00053380587059659312,\n",
       " 0.00091246565261209056,\n",
       " 0.00060290246955002624,\n",
       " -0.0019987301969677657,\n",
       " 0.0014628161696074171,\n",
       " 0.0010910206517470572,\n",
       " 0.00058215017853795181,\n",
       " 0.00088487538841409974,\n",
       " 0.0014288471478195175,\n",
       " -0.0014137411148346518,\n",
       " -0.00022319119087844952,\n",
       " -0.00046413977608970869,\n",
       " -0.0024396082919313222,\n",
       " 0.0012772023531449767,\n",
       " -0.00060155476130724361,\n",
       " 0.0013875108279984422,\n",
       " 0.00058884442775868073,\n",
       " -0.00052617229952184319,\n",
       " 0.002275048094148191,\n",
       " 0.0014353065310484109,\n",
       " -0.0020471148177286097,\n",
       " 0.00046520354186477264,\n",
       " -0.0011108949665000201,\n",
       " -0.00084262779043954572,\n",
       " -0.00054646537493795166,\n",
       " 0.0025436903547030876,\n",
       " 0.00033439692203515725,\n",
       " -0.00061558125393550156,\n",
       " 0.001800621632904495,\n",
       " -0.001868168959517677,\n",
       " -0.00072538844764222232,\n",
       " 0.0026815487809350586,\n",
       " -0.00039496780969112966,\n",
       " 0.00019669448888731678,\n",
       " -0.00069807336225555239,\n",
       " -0.00072568115376636655,\n",
       " -0.0013038287572510049,\n",
       " -0.00020945389891179056,\n",
       " 0.00018297297150218772,\n",
       " 0.0017451869584725888,\n",
       " 0.0015870985551506844,\n",
       " -0.0003607832019554974,\n",
       " -0.00058777189832721899,\n",
       " -0.0013310772388489267,\n",
       " 0.00047196088941167669,\n",
       " -0.00091833626024347137,\n",
       " 0.0010775602913229987,\n",
       " -0.0011109195047379755,\n",
       " -0.0021364852120540623,\n",
       " 0.0011397260223325739,\n",
       " 0.0010913256269901722,\n",
       " -0.0038709770989838743,\n",
       " 0.00067840937525648348,\n",
       " 0.0013942716810079192,\n",
       " -0.0019026375097210557,\n",
       " -0.00036790511760913247,\n",
       " 0.0014009817048102058,\n",
       " 0.0011052364393538128,\n",
       " -0.00108363947397698,\n",
       " -0.001117904707351583,\n",
       " 0.00043738717533135796,\n",
       " 0.0003549388852933516,\n",
       " 0.00052709935225686566,\n",
       " -0.0013518172607420442,\n",
       " -0.0019370797689551994,\n",
       " 0.0016555536544547861,\n",
       " -0.00058804532440727419,\n",
       " 0.00057548397301772358,\n",
       " -0.00012708097631891624,\n",
       " 0.00056803429661428373,\n",
       " -0.00040909771346506196,\n",
       " 0.001270331078064707,\n",
       " 0.0012704677911047485,\n",
       " -3.0597477367333425e-06,\n",
       " 0.0011190613678846023,\n",
       " 0.00096058911641186406,\n",
       " 0.00085027363063326644,\n",
       " 0.00013474609655675374,\n",
       " 0.002633057243565981,\n",
       " -0.0016962643913213948,\n",
       " -0.0014757315727160075,\n",
       " -7.8564900711897145e-05,\n",
       " 0.0011463343877204796,\n",
       " -0.0021090982646848194,\n",
       " -0.00019562546491842803,\n",
       " 0.00092630109753057133,\n",
       " 0.00027250286437432991,\n",
       " -0.0013312525119771601,\n",
       " -0.00042977463703200436,\n",
       " 0.0029770696967872934,\n",
       " -0.00011972945286728431,\n",
       " -0.00029878923861158257,\n",
       " 0.0022407933771612654,\n",
       " 0.00076774997315011417,\n",
       " 0.00069235874770831596,\n",
       " -0.0010146410279753409,\n",
       " 0.00062326390148614852,\n",
       " -0.001152285620990845,\n",
       " -0.00034007122376290833,\n",
       " 0.0015114777219108894,\n",
       " 0.0003689548615339322,\n",
       " -0.00068410295702833746,\n",
       " -0.00062906615259751553,\n",
       " 0.0012701558049364875,\n",
       " -0.001104288353843394,\n",
       " 0.0009467010895548994,\n",
       " 0.00019651571029652426,\n",
       " -0.0008080120108084482,\n",
       " 0.0012772794733214021,\n",
       " 0.0015594031270757536,\n",
       " -0.002260450353235216,\n",
       " -0.0012073504691221815,\n",
       " -0.00057412925384979496,\n",
       " 0.0015112936851262443,\n",
       " -0.00078752262948870999,\n",
       " -3.0506287969578327e-05,\n",
       " -0.00031274912745112016,\n",
       " -0.00029894698442699263,\n",
       " 0.00018283625846216012,\n",
       " -0.00095255416987345687,\n",
       " -0.0011797233975672644,\n",
       " -9.7645133451673694e-06,\n",
       " -0.0020882162715578495,\n",
       " 0.0016280948451029703,\n",
       " 0.00062333050527488276,\n",
       " 0.0011466498793513136,\n",
       " 0.001325292515050383,\n",
       " -0.00083562506051310104,\n",
       " -0.0019298789803938454,\n",
       " 0.001063826504818885,\n",
       " 0.0002036849496947768,\n",
       " 0.00042355523587543631,\n",
       " 0.00071289019457881908,\n",
       " -0.00018870511336226137,\n",
       " 0.00032738192298974178,\n",
       " 0.00015520217598212482,\n",
       " -0.001930196224755959,\n",
       " 0.00037547734308900071,\n",
       " 0.0030047651248622242,\n",
       " -0.00066379761249324432,\n",
       " 0.00071972816776472159,\n",
       " -0.0020264782069811527,\n",
       " -0.00021638827231820756,\n",
       " -0.00060160208505186108,\n",
       " -0.00017508875985405847,\n",
       " 0.0018484699178929476,\n",
       " 0.00069217646365495045,\n",
       " 0.0012086157989947,\n",
       " 0.0001896111333218875,\n",
       " -9.2216308845746719e-05,\n",
       " 0.00021044229724168084,\n",
       " -2.3452728835943182e-05,\n",
       " -0.0001681982047297137,\n",
       " 0.0019586521960940767,\n",
       " -0.0008220735580623667,\n",
       " -0.0011938322685658004,\n",
       " 0.0016211885153970679,\n",
       " 0.0010979900797791209,\n",
       " 0.0017590925126423768,\n",
       " -8.5621965308091408e-05,\n",
       " -0.0015859822074371643,\n",
       " -0.0011660404402703411,\n",
       " -0.00011301942906501161,\n",
       " 0.0025919996080187996,\n",
       " 0.0010156644809308918,\n",
       " -0.00056036742364516667,\n",
       " 0.0016835225086097583,\n",
       " -0.0013245407354436078,\n",
       " -0.0018820342008679658,\n",
       " 0.00021747482359993353,\n",
       " 2.4716305977182107e-05,\n",
       " 0.0010364080082865684,\n",
       " -0.0012554266091773375,\n",
       " -0.00035385058128035995,\n",
       " -0.0038779920980292898,\n",
       " 0.00047209760245169041,\n",
       " -0.00020942059701740956,\n",
       " -0.00044320520102425487,\n",
       " 0.00068540859972035517,\n",
       " 0.0013253065369006473,\n",
       " 0.00021030383147038756,\n",
       " -0.0012486254433483612,\n",
       " 0.00015540899827344579,\n",
       " 0.0005131762707742682,\n",
       " 0.00025166994772325701,\n",
       " -0.000133699858094527,\n",
       " -0.00022335419488771213,\n",
       " 0.001380434483358145,\n",
       " -0.00093191230093216115,\n",
       " 0.00080906000200195449,\n",
       " -0.00053932593197147938,\n",
       " -0.00029847024151818946,\n",
       " 0.0011534300124048796,\n",
       " -0.0013795985726497983,\n",
       " -0.00015451700016407,\n",
       " -0.00027159859714598333,\n",
       " -0.0026936789604291439,\n",
       " -0.0021093191088264046,\n",
       " 0.00028580723171425793,\n",
       " -0.00026456607078774452,\n",
       " 0.0017795433338738953,\n",
       " 0.0032733250070468567,\n",
       " -0.0006637222450480984,\n",
       " -0.00033996605988596829,\n",
       " -0.0017510119950906178,\n",
       " -0.00057429926878418969,\n",
       " -0.00090485661977529608,\n",
       " -6.4720692137004709e-05,\n",
       " -0.0004297728843007248,\n",
       " 0.00022404287616833996,\n",
       " 0.00021041775900372539,\n",
       " -0.0018403157856273361,\n",
       " -0.0036783149815816651,\n",
       " 0.00019654550672831839,\n",
       " 0.00058871998383763779,\n",
       " 0.00088487889387667273,\n",
       " -0.00031270180370648881,\n",
       " 0.00093328104195034012,\n",
       " 0.0019656058495446105,\n",
       " -0.0006776470792619893,\n",
       " -0.00045732809387305506,\n",
       " 0.00058209233840562924,\n",
       " 0.00205464147219514,\n",
       " -0.0010769189337869883,\n",
       " 0.0012841367265514075,\n",
       " 0.0014493032272448886,\n",
       " -0.0018818501640833207,\n",
       " 0.0017796187013190273,\n",
       " 0.00091238152151053298,\n",
       " -0.00040229654763608569,\n",
       " -0.00020950122265640803,\n",
       " -0.00015434873796096871,\n",
       " 0.00076095581824628389,\n",
       " -0.00055356450508491084,\n",
       " -8.5409884822917892e-05,\n",
       " -0.00017502566152789722,\n",
       " -0.00031963617711293357,\n",
       " -0.0013585062517689483,\n",
       " -0.002081513258680695,\n",
       " 0.00013451824149005032,\n",
       " -0.0019301191045795335,\n",
       " -0.0017304787954888212,\n",
       " 0.00070586292641443282,\n",
       " -0.0016964046098239816,\n",
       " 0.00049290598086483561,\n",
       " 0.0010021462803745107,\n",
       " 0.0022545885092602608,\n",
       " 7.265573299231054e-05,\n",
       " 0.0011879932100975071,\n",
       " -0.002659617043883275,\n",
       " -0.0001269372523537704,\n",
       " -0.00070499196108045337,\n",
       " 0.0021512897752583443,\n",
       " 0.0013667743115678976,\n",
       " -0.0020954258237756151,\n",
       " 0.00033446527855515717,\n",
       " 0.0022614142133271647,\n",
       " -9.7767824641381562e-06,\n",
       " -0.0002852289725044227,\n",
       " -0.0012625818267253397,\n",
       " -0.0011868155167891054,\n",
       " 0.0010778722774912597,\n",
       " -0.0018956382852571702,\n",
       " -0.00011322975681890557,\n",
       " -0.00071860831458864238,\n",
       " -0.0015858647744412396,\n",
       " -0.0015581781100227343,\n",
       " 0.00036191707698184084,\n",
       " -2.364728200827948e-05,\n",
       " 0.0010502294313547988,\n",
       " 0.0020685014553515624,\n",
       " 0.001531770797326984,\n",
       " -0.0010629222375905245,\n",
       " -0.0013383569003179857,\n",
       " -0.0018268045959960871,\n",
       " 0.00045109642359751623,\n",
       " 0.00034816751589619721,\n",
       " 0.00030678036686793142,\n",
       " 0.00054763956278379433,\n",
       " -0.0014067892141154115,\n",
       " -0.00012008876278017666,\n",
       " -0.00056723694599414287,\n",
       " -0.001647946374349285,\n",
       " 0.0023923224915711611,\n",
       " 0.0024405230755473739,\n",
       " -0.00057434834526010059,\n",
       " 0.0022544956145022915,\n",
       " 0.0021856671834350472,\n",
       " -0.00036096548600886291,\n",
       " 0.00042376556362931639,\n",
       " -0.0018130252384786355,\n",
       " 0.0009469482246657196,\n",
       " -0.0014137305984469745,\n",
       " 0.00068568377853167606,\n",
       " 0.00088480177370023338,\n",
       " -0.0010975467808780337,\n",
       " -0.00038140228539011722,\n",
       " 0.00087107499812126565,\n",
       " 0.00069914413895573457,\n",
       " 0.00074006681419416798,\n",
       " 0.0027154897590224297,\n",
       " 0.0013531264088966211,\n",
       " -0.00087013918172983151,\n",
       " -0.0006634593353557483,\n",
       " 0.0019792449885594754,\n",
       " 0.00049238191421140109,\n",
       " -0.0005949218576813825,\n",
       " -0.0014620696481944667,\n",
       " 0.00032780433122879538,\n",
       " 0.0019932925139631297,\n",
       " 0.0023370876285054298,\n",
       " 0.0020413143193485361,\n",
       " 0.00061647675750743647,\n",
       " 0.0010844035227027399,\n",
       " -0.00071873801670353787,\n",
       " 0.00058205027285483657,\n",
       " 0.0022819088528407416,\n",
       " -0.0021226848217612143,\n",
       " 0.00053378133235863767,\n",
       " 0.00090532796237691171,\n",
       " -0.0015034638081478646,\n",
       " 0.0021102216233234716,\n",
       " -0.0015997142412099846,\n",
       " 0.0004101790065529215,\n",
       " 0.00069890226203876693,\n",
       " 0.00069223255105597958,\n",
       " 0.00089172037252512049,\n",
       " -0.00056721766595003997,\n",
       " -0.00062233509601984649,\n",
       " 0.00011400256920106322,\n",
       " 0.00043760626674164971,\n",
       " -0.00021621124645869461,\n",
       " -0.00020250199819253634,\n",
       " 0.00064414414188185276,\n",
       " -0.0012350914682104502,\n",
       " -0.00031247570137106495,\n",
       " 0.0014701238747769907,\n",
       " -0.00089760324927548596,\n",
       " 0.00051323060544401777,\n",
       " -0.00053956956161974046,\n",
       " 0.00087813030998618036,\n",
       " 0.0014149486045748755,\n",
       " -4.4278634561897845e-05,\n",
       " 0.00049277102055608757,\n",
       " 0.001710842852190253,\n",
       " -0.00067750160256555003,\n",
       " -0.00030576217210623313,\n",
       " -0.00017475924637298801,\n",
       " 0.0013944995360746226,\n",
       " -0.00071878183498558235,\n",
       " -0.0010904967272069716,\n",
       " -0.00063600578419778508,\n",
       " 0.0018552185017834399,\n",
       " -0.00069802428577965536,\n",
       " 0.0022065596929497222,\n",
       " -1.6956538250095798e-05,\n",
       " 0.0020274788744300415,\n",
       " -0.0008218492084582224,\n",
       " -0.0020469658355696113,\n",
       " -0.00029867531107823087,\n",
       " -3.0983078249391394e-06,\n",
       " 0.0013461674972522486,\n",
       " -0.0022465623263782514,\n",
       " -0.0025221670040401073,\n",
       " 3.8585052790029994e-05,\n",
       " 6.59632365028473e-05,\n",
       " -3.7484479658053682e-05,\n",
       " 0.00097425980458980266,\n",
       " -0.00036801729241120462,\n",
       " -0.002054145591355569,\n",
       " 0.00083696751056204499,\n",
       " 0.00031380237683846512,\n",
       " -0.0035819681482990168,\n",
       " -0.00011981533670012146,\n",
       " 0.0020756128546175201,\n",
       " -0.0018131461769371193,\n",
       " -0.00021615340632637203,\n",
       " 0.0014971918250528266,\n",
       " -0.0019232092694110581,\n",
       " 0.0015387332144339433,\n",
       " 0.0003889622417510008,\n",
       " 0.00020352194568551418,\n",
       " -0.004848105603600647,\n",
       " -0.0017029709096611084,\n",
       " -0.0013589707255587669,\n",
       " -0.001709887755754716,\n",
       " 0.0012632529806931442,\n",
       " 0.0010019867818278211,\n",
       " -0.0017717853188781024,\n",
       " 0.0016832858898866293,\n",
       " 0.00085738502989921028,\n",
       " -0.00025084455340260159,\n",
       " 0.0015937998152965455,\n",
       " 0.00038252914949134242,\n",
       " 4.0306187538280414e-06,\n",
       " -0.00042270355058554587,\n",
       " -0.0019162748960046272,\n",
       " 0.00025159282754683154,\n",
       " 0.00080906000200195449,\n",
       " -0.00088408329598782531,\n",
       " -0.00026449596153645116,\n",
       " 0.001043298563410941,\n",
       " -0.0010216016923510068,\n",
       " -0.0038159928764915363,\n",
       " -0.00089764531482625087,\n",
       " -0.00099423577775716032,\n",
       " -0.0012968786092630441,\n",
       " -0.00040217911464017486,\n",
       " -0.00031271407282547348,\n",
       " 0.00064372699183665172,\n",
       " 0.0035691929636929992,\n",
       " -0.00091821181632241455,\n",
       " 0.0022339641676317745,\n",
       " 0.00074052427705886825,\n",
       " -0.0010214141501037888,\n",
       " 0.0012082897909761886,\n",
       " -0.0013449898039438468,\n",
       " -0.00016821222657996404,\n",
       " 5.2262751893100701e-05,\n",
       " 0.00054065085470759999,\n",
       " 0.0017315986486649004,\n",
       " 0.001001746657642133,\n",
       " -0.0016617344955231345,\n",
       " -0.0011797742267744549,\n",
       " -0.0024875880317659499,\n",
       " 0.00054064384378248176,\n",
       " 0.00062339535633232357,\n",
       " 0.00043065436602240936,\n",
       " -9.9168209564987064e-05,\n",
       " 3.1482417180497824e-05,\n",
       " 0.00074025085097882692,\n",
       " -0.00020271407867770985,\n",
       " -0.0010628205791761575,\n",
       " -5.8098304898834829e-05,\n",
       " -0.0017444474479847843,\n",
       " 0.00019675057628835979,\n",
       " 0.0006164785102387299,\n",
       " -0.0014138094713546795,\n",
       " 0.00051336907121532493,\n",
       " 0.0024199933814081365,\n",
       " 0.0016487910487140156,\n",
       " -0.0015790723722686889,\n",
       " -0.00038154425662399738,\n",
       " 0.00093287265556155075,\n",
       " 0.0013875090752671626,\n",
       " -0.0008635939146680871,\n",
       " 0.0026125853895590523,\n",
       " -0.0015168856084837173,\n",
       " 0.0014563006989774807,\n",
       " -0.0032309196632568926,\n",
       " -0.00016117619475915224,\n",
       " -0.0010972593329477281,\n",
       " -0.0022948593105749787,\n",
       " 0.00094692193369648459,\n",
       " 0.0010776023568737636,\n",
       " -0.00050540949212206365,\n",
       " 0.00047213265707735097,\n",
       " 0.00038939691910903906,\n",
       " -0.0010010492127051074,\n",
       " -0.00025737229315153654,\n",
       " -0.00023677424249228529,\n",
       " 0.00058178736316248647,\n",
       " -0.0003608322784314083,\n",
       " 0.0010845314720863419,\n",
       " -0.0014347037336006341,\n",
       " 0.0019313230888571703,\n",
       " 0.00041022282483499373,\n",
       " -0.00091837832579423628,\n",
       " 0.0012018619569103689,\n",
       " 0.00071976672785292739,\n",
       " -0.00080128796515591127,\n",
       " 0.00010057200520881271,\n",
       " -0.00060184220923754916,\n",
       " 0.00038259400054879711,\n",
       " -0.0025906659216262673,\n",
       " -0.00089762778751344141,\n",
       " 0.0008645998403108146,\n",
       " -0.0005054760959107979,\n",
       " 0.0015525073137575285,\n",
       " -0.00049836995483869273,\n",
       " 0.00082981930393917491,\n",
       " 0.00054049135616092425,\n",
       " 0.0011464377988661401,\n",
       " 0.00027224170741325937,\n",
       " -0.0011454458950736629,\n",
       " 0.00082279554123734777,\n",
       " 0.00041690655766803142,\n",
       " 0.00096075737861497923,\n",
       " -1.677951239058284e-05,\n",
       " -7.2014375456314061e-05,\n",
       " -0.0012348951623068205,\n",
       " -0.00064296820130473054,\n",
       " 0.00066467208328979677,\n",
       " -0.00099389224242581176,\n",
       " -0.0020538125724119255,\n",
       " 0.0013598364326989076,\n",
       " -0.00064989556378602931,\n",
       " -0.00022317892175947873,\n",
       " -0.0018272392733541254,\n",
       " -0.00073245602862610781,\n",
       " 0.00014885847301784882,\n",
       " 5.9041132215401082e-05,\n",
       " 0.00023819907091150727,\n",
       " 0.0016008305889235047,\n",
       " -0.00098038105279456278,\n",
       " 0.00014846410847932368,\n",
       " -0.00011307902192861374,\n",
       " -0.0017580077140919304,\n",
       " -0.00016822449569893483,\n",
       " 0.0013871848199799308,\n",
       " 0.0011739141355307792,\n",
       " 0.0016834646684774357,\n",
       " 0.00065787617565467305,\n",
       " 0.0003687953629872287,\n",
       " 0.00098799709655648937,\n",
       " -0.0012487130799124918,\n",
       " -0.0019988371135759853,\n",
       " -0.0014687849301906059,\n",
       " -0.00013394874593662676,\n",
       " 0.0015940311758258358,\n",
       " 0.00053380411786529969,\n",
       " 0.00050640314864582037,\n",
       " 0.001263265249812115,\n",
       " -0.0010215543686063755,\n",
       " 0.00040992486051698307,\n",
       " 0.00036877433021184625,\n",
       " -0.00012666032081115608,\n",
       " 0.00012779594856879295,\n",
       " 0.0023232644527059337,\n",
       " -3.0378338585948517e-05,\n",
       " 0.00054755893714479587,\n",
       " 5.2136555240764326e-05,\n",
       " 0.0010844683737601807,\n",
       " -0.00023016412437310008,\n",
       " 0.0016214864797150647,\n",
       " 0.00052003177127298017,\n",
       " 0.0020067739071625845,\n",
       " -0.0015790969105066444,\n",
       " 0.0019103499537035107,\n",
       " 0.0012980037206329759,\n",
       " -0.00067737540591322754,\n",
       " -0.0033131418509594612,\n",
       " 0.0002172557321896279,\n",
       " -0.00024386285625155324,\n",
       " -0.00051882077607021126,\n",
       " -0.00098018124142837393,\n",
       " -0.0029966302726407157,\n",
       " 0.0010566958255088382,\n",
       " 0.0018279805365732094,\n",
       " -0.00040903286240760728,\n",
       " 0.0018006689566491263,\n",
       " 0.00030681366876229854,\n",
       " 0.00041023334122267108,\n",
       " 0.0012219709955418184,\n",
       " -1.6506086310541512e-05,\n",
       " 0.0012909974852439721,\n",
       " 0.00014159633886162704,\n",
       " -0.0012072645852893443,\n",
       " -0.0003608322784314083,\n",
       " -3.7177751683645233e-05,\n",
       " -0.00037442409370164187,\n",
       " 0.00073354608537037902,\n",
       " -0.0015999333326202764,\n",
       " -0.0025770600845057556,\n",
       " 0.00082999983526126087,\n",
       " 0.00032759400347490142,\n",
       " -0.00048488505617667876,\n",
       " -0.002122775963787904,\n",
       " -0.00072534112389759098,\n",
       " 0.0027431466270091409,\n",
       " 0.0010223114064070171,\n",
       " -0.00095965154728913649,\n",
       " 0.00093320742723648764,\n",
       " 0.00067146448546236137,\n",
       " -0.00041593919211350971,\n",
       " 0.00088519263277619942,\n",
       " 0.00047874102246525663,\n",
       " 0.00049944774246399315,\n",
       " -0.00081505154809181912,\n",
       " -0.0013173592269263568,\n",
       " 0.0014699240634108018,\n",
       " -0.00061564961045551536,\n",
       " -0.0018888669158600158,\n",
       " 0.00050639613772068826,\n",
       " 0.0024265859722144983,\n",
       " -0.0015238375092029716,\n",
       " 0.00047904950317094463,\n",
       " -0.00084277326713598499,\n",
       " 0.001290524247797728,\n",
       " -0.00052580072048998006,\n",
       " -0.00085610392544514802,\n",
       " 0.00015569995166631045,\n",
       " -0.0014689724724378239,\n",
       " -0.00064294015760421597,\n",
       " -0.0015858682799038126,\n",
       " 0.00036909157457394592,\n",
       " -0.0005329611962318348,\n",
       " -0.00084254716480056113,\n",
       " 0.0010915552347881691,\n",
       " -0.00040893295672451979,\n",
       " 0.0017865846238885319,\n",
       " 0.00075428084906965787,\n",
       " 0.00058198191633483665,\n",
       " -0.00042971854963096134,\n",
       " 0.0011603994404369572,\n",
       " -0.0026527299942214616,\n",
       " 0.002137554236022951,\n",
       " -0.0026385212175398381,\n",
       " 0.0002034711164783376,\n",
       " -0.00034722293584833752,\n",
       " -0.00082225408938445266,\n",
       " -0.0015582499720053072,\n",
       " 0.0011187651562978851,\n",
       " 0.0010021515385683494,\n",
       " -0.00084973918970548956,\n",
       " -3.7316217454952394e-05,\n",
       " -0.0019233547461074973,\n",
       " -0.0017236618550783289,\n",
       " 0.00067846896812007174,\n",
       " -0.0014967660534645627,\n",
       " -3.7328486573923181e-05,\n",
       " -0.0008427504816293091,\n",
       " 0.0014837507446728848,\n",
       " 0.00078166429097631385,\n",
       " 0.00060974920639232655,\n",
       " 0.0012221865814895511,\n",
       " -0.0020884336102368617,\n",
       " -5.1106091360095252e-05,\n",
       " 5.2106758808970199e-05,\n",
       " -0.0018268747052473805,\n",
       " -0.00065689303551862144,\n",
       " -0.00034718612849141128,\n",
       " -0.0019506312714059337,\n",
       " -0.0010629888413792588,\n",
       " 0.00079526662263425252,\n",
       " -0.00089076878155215644,\n",
       " -0.0012760527035370894,\n",
       " 0.00025874103416970162,\n",
       " -0.0011728591334121408,\n",
       " 0.00052024209902686025,\n",
       " -0.0009182451182167678,\n",
       " 0.0010293404273026829,\n",
       " 0.0012844294326755518,\n",
       " -0.0014550423800300805,\n",
       " -0.00018198983136613611,\n",
       " -9.7487387636235878e-06,\n",
       " -0.00090442544787983081,\n",
       " 0.0019311162665658493,\n",
       " -0.0013794863978477401,\n",
       " 0.00030005456848410106,\n",
       " -0.0015447475460304699,\n",
       " 0.0012565587314724014,\n",
       " -0.0017442318620370378,\n",
       " -0.001290140541760243,\n",
       " 0.00061639087367459933,\n",
       " -0.00062250686368550689,\n",
       " -0.00010610608843397706,\n",
       " -0.0012625572884873842,\n",
       " 0.00072645396614855196,\n",
       " 0.0017452377876797653,\n",
       " 0.0023438975579908039,\n",
       " 0.00085081697733078998,\n",
       " -7.1758476689096073e-05,\n",
       " -0.00074614073865431063,\n",
       " -0.0015447370296427648,\n",
       " -0.0010969771432112613,\n",
       " 0.002398922093302655,\n",
       " -0.002115736426504547,\n",
       " -0.0013797037365267523,\n",
       " 0.0012359168625310918,\n",
       " 0.00081620119769970634,\n",
       " 0.00029998270650152814,\n",
       " 0.00094695348285957215,\n",
       " -0.003065875853753175,\n",
       " -0.00051935185364876402,\n",
       " -0.00072549886971300104,\n",
       " -0.00037473082167605032,\n",
       " 0.00073350577255089366,\n",
       " -0.0010353968244499884,\n",
       " ...]"
      ]
     },
     "execution_count": 33,
     "metadata": {},
     "output_type": "execute_result"
    }
   ],
   "source": [
    "p_diffs = []\n",
    "\n",
    "#simualating difference in p_new and p_old 10000 times\n",
    "for i in range(10000):\n",
    "    sample_size = df2[df2['landing_page'] == 'new_page']['user_id'].count()\n",
    "    new_page_converted = df2['converted'].sample(sample_size,replace = True)\n",
    "    p_new = new_page_converted[new_page_converted == 1].count()/new_page_converted.count()\n",
    "    \n",
    "    sample_size = df2[df2['landing_page'] == 'old_page']['user_id'].count()\n",
    "    old_page_converted = df2['converted'].sample(sample_size,replace = True)\n",
    "    p_old = old_page_converted[old_page_converted == 1].count()/old_page_converted.count()\n",
    "    \n",
    "    p_diffs.append(p_new - p_old)\n",
    "p_diffs"
   ]
  },
  {
   "cell_type": "markdown",
   "metadata": {},
   "source": [
    "i. Plot a histogram of the **p_diffs**.  Does this plot look like what you expected?  Use the matching problem in the classroom to assure you fully understand what was computed here."
   ]
  },
  {
   "cell_type": "code",
   "execution_count": 34,
   "metadata": {},
   "outputs": [
    {
     "data": {
      "text/plain": [
       "Text(0,0.5,'Occurrences')"
      ]
     },
     "execution_count": 34,
     "metadata": {},
     "output_type": "execute_result"
    },
    {
     "data": {
      "image/png": "[encoded data removed]",
      "text/plain": [
       "<matplotlib.figure.Figure at 0x7f25fffc66d8>"
      ]
     },
     "metadata": {},
     "output_type": "display_data"
    }
   ],
   "source": [
    "plt.hist(p_diffs);\n",
    "plt.xlabel('P_diffs')\n",
    "plt.ylabel('Occurrences')"
   ]
  },
  {
   "cell_type": "markdown",
   "metadata": {},
   "source": [
    "j. What proportion of the **p_diffs** are greater than the actual difference observed in **ab_data.csv**?"
   ]
  },
  {
   "cell_type": "code",
   "execution_count": 35,
   "metadata": {},
   "outputs": [
    {
     "data": {
      "text/plain": [
       "-0.0015790565976871451"
      ]
     },
     "execution_count": 35,
     "metadata": {},
     "output_type": "execute_result"
    }
   ],
   "source": [
    "p_new_actual = df2.query('landing_page == \"new_page\" and converted == 1')['user_id'].count() / df2[df2['landing_page'] == \"new_page\"]['user_id'].count()\n",
    "p_old_actual = df2.query('landing_page == \"old_page\" and converted == 1')['user_id'].count() / df2[df2['landing_page'] == \"old_page\"]['user_id'].count()\n",
    "\n",
    "#computing the actual difference in p_new and p_old from original dataset\n",
    "p_actual = p_new_actual -p_old_actual\n",
    "p_actual\n"
   ]
  },
  {
   "cell_type": "code",
   "execution_count": 36,
   "metadata": {},
   "outputs": [
    {
     "data": {
      "text/plain": [
       "0.90469999999999995"
      ]
     },
     "execution_count": 36,
     "metadata": {},
     "output_type": "execute_result"
    }
   ],
   "source": [
    "#Computing the proportion of p_diffs greater than actual difference\n",
    "(p_diffs > p_actual).mean()"
   ]
  },
  {
   "cell_type": "markdown",
   "metadata": {},
   "source": [
    "k. In words, explain what you just computed in part **j.**.  What is this value called in scientific studies?  What does this value mean in terms of whether or not there is a difference between the new and old pages?"
   ]
  },
  {
   "cell_type": "markdown",
   "metadata": {},
   "source": [
    "**Answer:**  **P-Value**. P-value of **0.9046** means our statistic likely to come from null hypothesis. Therefore, we are **fail to reject the NULL**."
   ]
  },
  {
   "cell_type": "markdown",
   "metadata": {},
   "source": [
    "l. We could also use a built-in to achieve similar results.  Though using the built-in might be easier to code, the above portions are a walkthrough of the ideas that are critical to correctly thinking about statistical significance. Fill in the below to calculate the number of conversions for each page, as well as the number of individuals who received each page. Let `n_old` and `n_new` refer the the number of rows associated with the old page and new pages, respectively."
   ]
  },
  {
   "cell_type": "code",
   "execution_count": 37,
   "metadata": {},
   "outputs": [
    {
     "name": "stderr",
     "output_type": "stream",
     "text": [
      "/opt/conda/lib/python3.6/site-packages/statsmodels/compat/pandas.py:56: FutureWarning: The pandas.core.datetools module is deprecated and will be removed in a future version. Please use the pandas.tseries module instead.\n",
      "  from pandas.core import datetools\n"
     ]
    }
   ],
   "source": [
    "import statsmodels.api as sm\n",
    "\n",
    "convert_old = df2.query('landing_page == \"old_page\" and converted == 1')['user_id'].count() \n",
    "convert_new = df2.query('landing_page == \"new_page\" and converted == 1')['user_id'].count() \n",
    "n_old = df2[df2['landing_page'] == 'old_page']['user_id'].count()\n",
    "n_new = df2[df2['landing_page'] == 'new_page']['user_id'].count()"
   ]
  },
  {
   "cell_type": "markdown",
   "metadata": {},
   "source": [
    "m. Now use `stats.proportions_ztest` to compute your test statistic and p-value.  [Here](http://knowledgetack.com/python/statsmodels/proportions_ztest/) is a helpful link on using the built in."
   ]
  },
  {
   "cell_type": "code",
   "execution_count": 40,
   "metadata": {},
   "outputs": [
    {
     "data": {
      "text/plain": [
       "(-1.3116075339133115, 0.90517370514059103)"
      ]
     },
     "execution_count": 40,
     "metadata": {},
     "output_type": "execute_result"
    }
   ],
   "source": [
    "#Computing two sample proportion hypothesis testing\n",
    "z_score , p_value = sm.stats.proportions_ztest([convert_new,convert_old],[n_new,n_old],alternative='larger')\n",
    "z_score,p_value"
   ]
  },
  {
   "cell_type": "markdown",
   "metadata": {},
   "source": [
    "n. What do the z-score and p-value you computed in the previous question mean for the conversion rates of the old and new pages?  Do they agree with the findings in parts **j.** and **k.**?"
   ]
  },
  {
   "cell_type": "markdown",
   "metadata": {},
   "source": [
    "**Answer**: Z score of -1.311 lies between critical value of -1.96 to +1.96. \n",
    "P-value comes out to be 0.9051 which is large. \n",
    "Hence, We **fail to REJECT THE NULL HYPOTHESIS.**\n",
    "\n"
   ]
  },
  {
   "cell_type": "markdown",
   "metadata": {},
   "source": [
    "<a id='regression'></a>\n",
    "### Part III - A regression approach\n",
    "\n",
    "`1.` In this final part, you will see that the result you acheived in the previous A/B test can also be acheived by performing regression.<br><br>\n",
    "\n",
    "a. Since each row is either a conversion or no conversion, what type of regression should you be performing in this case?"
   ]
  },
  {
   "cell_type": "markdown",
   "metadata": {},
   "source": [
    "**LOGISTIC REGRESSION**"
   ]
  },
  {
   "cell_type": "markdown",
   "metadata": {},
   "source": [
    "b. The goal is to use **statsmodels** to fit the regression model you specified in part **a.** to see if there is a significant difference in conversion based on which page a customer receives.  However, you first need to create a colun for the intercept, and create a dummy variable column for which page each user received.  Add an **intercept** column, as well as an **ab_page** column, which is 1 when an individual receives the **treatment** and 0 if **control**."
   ]
  },
  {
   "cell_type": "code",
   "execution_count": 41,
   "metadata": {},
   "outputs": [
    {
     "data": {
      "text/html": [
       "<div>\n",
       "<style>\n",
       "    .dataframe thead tr:only-child th {\n",
       "        text-align: right;\n",
       "    }\n",
       "\n",
       "    .dataframe thead th {\n",
       "        text-align: left;\n",
       "    }\n",
       "\n",
       "    .dataframe tbody tr th {\n",
       "        vertical-align: top;\n",
       "    }\n",
       "</style>\n",
       "<table border=\"1\" class=\"dataframe\">\n",
       "  <thead>\n",
       "    <tr style=\"text-align: right;\">\n",
       "      <th></th>\n",
       "      <th>user_id</th>\n",
       "      <th>timestamp</th>\n",
       "      <th>group</th>\n",
       "      <th>landing_page</th>\n",
       "      <th>converted</th>\n",
       "    </tr>\n",
       "  </thead>\n",
       "  <tbody>\n",
       "    <tr>\n",
       "      <th>0</th>\n",
       "      <td>661590</td>\n",
       "      <td>2017-01-11 16:55:06.154213</td>\n",
       "      <td>treatment</td>\n",
       "      <td>new_page</td>\n",
       "      <td>0</td>\n",
       "    </tr>\n",
       "    <tr>\n",
       "      <th>1</th>\n",
       "      <td>853541</td>\n",
       "      <td>2017-01-08 18:28:03.143765</td>\n",
       "      <td>treatment</td>\n",
       "      <td>new_page</td>\n",
       "      <td>0</td>\n",
       "    </tr>\n",
       "    <tr>\n",
       "      <th>2</th>\n",
       "      <td>679687</td>\n",
       "      <td>2017-01-19 03:26:46.940749</td>\n",
       "      <td>treatment</td>\n",
       "      <td>new_page</td>\n",
       "      <td>1</td>\n",
       "    </tr>\n",
       "    <tr>\n",
       "      <th>3</th>\n",
       "      <td>817355</td>\n",
       "      <td>2017-01-04 17:58:08.979471</td>\n",
       "      <td>treatment</td>\n",
       "      <td>new_page</td>\n",
       "      <td>1</td>\n",
       "    </tr>\n",
       "    <tr>\n",
       "      <th>4</th>\n",
       "      <td>839785</td>\n",
       "      <td>2017-01-15 18:11:06.610965</td>\n",
       "      <td>treatment</td>\n",
       "      <td>new_page</td>\n",
       "      <td>1</td>\n",
       "    </tr>\n",
       "  </tbody>\n",
       "</table>\n",
       "</div>"
      ],
      "text/plain": [
       "   user_id                   timestamp      group landing_page  converted\n",
       "0   661590  2017-01-11 16:55:06.154213  treatment     new_page          0\n",
       "1   853541  2017-01-08 18:28:03.143765  treatment     new_page          0\n",
       "2   679687  2017-01-19 03:26:46.940749  treatment     new_page          1\n",
       "3   817355  2017-01-04 17:58:08.979471  treatment     new_page          1\n",
       "4   839785  2017-01-15 18:11:06.610965  treatment     new_page          1"
      ]
     },
     "execution_count": 41,
     "metadata": {},
     "output_type": "execute_result"
    }
   ],
   "source": [
    "df2.head()"
   ]
  },
  {
   "cell_type": "code",
   "execution_count": 42,
   "metadata": {},
   "outputs": [
    {
     "data": {
      "text/html": [
       "<div>\n",
       "<style>\n",
       "    .dataframe thead tr:only-child th {\n",
       "        text-align: right;\n",
       "    }\n",
       "\n",
       "    .dataframe thead th {\n",
       "        text-align: left;\n",
       "    }\n",
       "\n",
       "    .dataframe tbody tr th {\n",
       "        vertical-align: top;\n",
       "    }\n",
       "</style>\n",
       "<table border=\"1\" class=\"dataframe\">\n",
       "  <thead>\n",
       "    <tr style=\"text-align: right;\">\n",
       "      <th></th>\n",
       "      <th>user_id</th>\n",
       "      <th>timestamp</th>\n",
       "      <th>group</th>\n",
       "      <th>landing_page</th>\n",
       "      <th>converted</th>\n",
       "      <th>new_page</th>\n",
       "      <th>ab_page</th>\n",
       "      <th>intercept</th>\n",
       "    </tr>\n",
       "  </thead>\n",
       "  <tbody>\n",
       "    <tr>\n",
       "      <th>0</th>\n",
       "      <td>661590</td>\n",
       "      <td>2017-01-11 16:55:06.154213</td>\n",
       "      <td>treatment</td>\n",
       "      <td>new_page</td>\n",
       "      <td>0</td>\n",
       "      <td>1</td>\n",
       "      <td>1</td>\n",
       "      <td>1</td>\n",
       "    </tr>\n",
       "    <tr>\n",
       "      <th>1</th>\n",
       "      <td>853541</td>\n",
       "      <td>2017-01-08 18:28:03.143765</td>\n",
       "      <td>treatment</td>\n",
       "      <td>new_page</td>\n",
       "      <td>0</td>\n",
       "      <td>1</td>\n",
       "      <td>1</td>\n",
       "      <td>1</td>\n",
       "    </tr>\n",
       "    <tr>\n",
       "      <th>2</th>\n",
       "      <td>679687</td>\n",
       "      <td>2017-01-19 03:26:46.940749</td>\n",
       "      <td>treatment</td>\n",
       "      <td>new_page</td>\n",
       "      <td>1</td>\n",
       "      <td>1</td>\n",
       "      <td>1</td>\n",
       "      <td>1</td>\n",
       "    </tr>\n",
       "    <tr>\n",
       "      <th>3</th>\n",
       "      <td>817355</td>\n",
       "      <td>2017-01-04 17:58:08.979471</td>\n",
       "      <td>treatment</td>\n",
       "      <td>new_page</td>\n",
       "      <td>1</td>\n",
       "      <td>1</td>\n",
       "      <td>1</td>\n",
       "      <td>1</td>\n",
       "    </tr>\n",
       "    <tr>\n",
       "      <th>4</th>\n",
       "      <td>839785</td>\n",
       "      <td>2017-01-15 18:11:06.610965</td>\n",
       "      <td>treatment</td>\n",
       "      <td>new_page</td>\n",
       "      <td>1</td>\n",
       "      <td>1</td>\n",
       "      <td>1</td>\n",
       "      <td>1</td>\n",
       "    </tr>\n",
       "  </tbody>\n",
       "</table>\n",
       "</div>"
      ],
      "text/plain": [
       "   user_id                   timestamp      group landing_page  converted  \\\n",
       "0   661590  2017-01-11 16:55:06.154213  treatment     new_page          0   \n",
       "1   853541  2017-01-08 18:28:03.143765  treatment     new_page          0   \n",
       "2   679687  2017-01-19 03:26:46.940749  treatment     new_page          1   \n",
       "3   817355  2017-01-04 17:58:08.979471  treatment     new_page          1   \n",
       "4   839785  2017-01-15 18:11:06.610965  treatment     new_page          1   \n",
       "\n",
       "   new_page  ab_page  intercept  \n",
       "0         1        1          1  \n",
       "1         1        1          1  \n",
       "2         1        1          1  \n",
       "3         1        1          1  \n",
       "4         1        1          1  "
      ]
     },
     "execution_count": 42,
     "metadata": {},
     "output_type": "execute_result"
    }
   ],
   "source": [
    "#creating dummy variables for \" landing_page \" column\n",
    "df2[['new_page','old_page']] = pd.get_dummies(df2['landing_page'])\n",
    "df2.drop('old_page', axis=1 , inplace= True)\n",
    "\n",
    "#Creating dummy variable for \" group \" column\n",
    "df2[['control','ab_page']] = pd.get_dummies(df2['group'])\n",
    "df2.drop('control', axis=1 , inplace= True)\n",
    "\n",
    "#creating intercept column\n",
    "df2['intercept'] = 1\n",
    "df2.head()"
   ]
  },
  {
   "cell_type": "markdown",
   "metadata": {},
   "source": [
    "c. Use **statsmodels** to import your regression model.  Instantiate the model, and fit the model using the two columns you created in part **b.** to predict whether or not an individual converts."
   ]
  },
  {
   "cell_type": "code",
   "execution_count": 44,
   "metadata": {},
   "outputs": [
    {
     "name": "stdout",
     "output_type": "stream",
     "text": [
      "Optimization terminated successfully.\n",
      "         Current function value: 0.366118\n",
      "         Iterations 6\n"
     ]
    }
   ],
   "source": [
    "#instantiating the model\n",
    "log_mod = sm.Logit(df2['converted'],df2[['intercept','ab_page']])\n",
    "\n",
    "#fit the model\n",
    "results = log_mod.fit()\n"
   ]
  },
  {
   "cell_type": "markdown",
   "metadata": {},
   "source": [
    "d. Provide the summary of your model below, and use it as necessary to answer the following questions."
   ]
  },
  {
   "cell_type": "code",
   "execution_count": 45,
   "metadata": {},
   "outputs": [
    {
     "data": {
      "text/html": [
       "<table class=\"simpletable\">\n",
       "<caption>Logit Regression Results</caption>\n",
       "<tr>\n",
       "  <th>Dep. Variable:</th>     <td>converted</td>    <th>  No. Observations:  </th>   <td>290585</td>   \n",
       "</tr>\n",
       "<tr>\n",
       "  <th>Model:</th>               <td>Logit</td>      <th>  Df Residuals:      </th>   <td>290583</td>   \n",
       "</tr>\n",
       "<tr>\n",
       "  <th>Method:</th>               <td>MLE</td>       <th>  Df Model:          </th>   <td>     1</td>   \n",
       "</tr>\n",
       "<tr>\n",
       "  <th>Date:</th>          <td>Tue, 27 Mar 2018</td> <th>  Pseudo R-squ.:     </th>  <td>8.085e-06</td> \n",
       "</tr>\n",
       "<tr>\n",
       "  <th>Time:</th>              <td>05:39:28</td>     <th>  Log-Likelihood:    </th> <td>-1.0639e+05</td>\n",
       "</tr>\n",
       "<tr>\n",
       "  <th>converged:</th>           <td>True</td>       <th>  LL-Null:           </th> <td>-1.0639e+05</td>\n",
       "</tr>\n",
       "<tr>\n",
       "  <th> </th>                      <td> </td>        <th>  LLR p-value:       </th>   <td>0.1897</td>   \n",
       "</tr>\n",
       "</table>\n",
       "<table class=\"simpletable\">\n",
       "<tr>\n",
       "      <td></td>         <th>coef</th>     <th>std err</th>      <th>z</th>      <th>P>|z|</th>  <th>[0.025</th>    <th>0.975]</th>  \n",
       "</tr>\n",
       "<tr>\n",
       "  <th>intercept</th> <td>   -1.9888</td> <td>    0.008</td> <td> -246.669</td> <td> 0.000</td> <td>   -2.005</td> <td>   -1.973</td>\n",
       "</tr>\n",
       "<tr>\n",
       "  <th>ab_page</th>   <td>   -0.0150</td> <td>    0.011</td> <td>   -1.312</td> <td> 0.190</td> <td>   -0.037</td> <td>    0.007</td>\n",
       "</tr>\n",
       "</table>"
      ],
      "text/plain": [
       "<class 'statsmodels.iolib.summary.Summary'>\n",
       "\"\"\"\n",
       "                           Logit Regression Results                           \n",
       "==============================================================================\n",
       "Dep. Variable:              converted   No. Observations:               290585\n",
       "Model:                          Logit   Df Residuals:                   290583\n",
       "Method:                           MLE   Df Model:                            1\n",
       "Date:                Tue, 27 Mar 2018   Pseudo R-squ.:               8.085e-06\n",
       "Time:                        05:39:28   Log-Likelihood:            -1.0639e+05\n",
       "converged:                       True   LL-Null:                   -1.0639e+05\n",
       "                                        LLR p-value:                    0.1897\n",
       "==============================================================================\n",
       "                 coef    std err          z      P>|z|      [0.025      0.975]\n",
       "------------------------------------------------------------------------------\n",
       "intercept     -1.9888      0.008   -246.669      0.000      -2.005      -1.973\n",
       "ab_page       -0.0150      0.011     -1.312      0.190      -0.037       0.007\n",
       "==============================================================================\n",
       "\"\"\""
      ]
     },
     "execution_count": 45,
     "metadata": {},
     "output_type": "execute_result"
    }
   ],
   "source": [
    "#dsiplaying model summary\n",
    "results.summary()"
   ]
  },
  {
   "cell_type": "code",
   "execution_count": 46,
   "metadata": {},
   "outputs": [
    {
     "data": {
      "text/plain": [
       "0.98511193960306265"
      ]
     },
     "execution_count": 46,
     "metadata": {},
     "output_type": "execute_result"
    }
   ],
   "source": [
    "np.exp(-0.0150)"
   ]
  },
  {
   "cell_type": "code",
   "execution_count": 47,
   "metadata": {},
   "outputs": [
    {
     "data": {
      "text/plain": [
       "1.0151130646157189"
      ]
     },
     "execution_count": 47,
     "metadata": {},
     "output_type": "execute_result"
    }
   ],
   "source": [
    "1/np.exp(-0.0150)"
   ]
  },
  {
   "cell_type": "markdown",
   "metadata": {},
   "source": [
    "e. What is the p-value associated with **ab_page**? Why does it differ from the value you found in the **Part II**?<br><br> \n",
    "\n",
    "\n",
    "\n",
    "\n",
    "\n",
    "**Hint**: What are the null and alternative hypotheses associated with your regression model, and how do they compare to the null and alternative hypotheses in the **Part II**?"
   ]
  },
  {
   "cell_type": "markdown",
   "metadata": {},
   "source": [
    "**Answer**: From our model Summary, the p-value associated with ab_page is 0.190 which is greater than common alpha level of 0.05. Therefore, it is not statistically significant in predicting whether user will convert or not on the basis of group to which it belongs.\n",
    "\n",
    "P value in part 2 is 0.90 suggests that Probability of conversion of user landing on new page is no better than Probability of conversion of user getting old page.\n",
    "\n"
   ]
  },
  {
   "cell_type": "markdown",
   "metadata": {},
   "source": [
    "f. Now, you are considering other things that might influence whether or not an individual converts.  Discuss why it is a good idea to consider other factors to add into your regression model.  Are there any disadvantages to adding \n",
    "additional terms into your regression model?"
   ]
  },
  {
   "cell_type": "markdown",
   "metadata": {},
   "source": [
    "**Answer** : **Timestamp** can have significant impact on conversion rate. Whether the day is weekday or weekend can affect the conversion rates. Or there might be more convertions in certain part of the DAY as compared to other."
   ]
  },
  {
   "cell_type": "markdown",
   "metadata": {},
   "source": [
    "g. Now along with testing if the conversion rate changes for different pages, also add an effect based on which country a user lives. You will need to read in the **countries.csv** dataset and merge together your datasets on the approporiate rows.  [Here](https://pandas.pydata.org/pandas-docs/stable/generated/pandas.DataFrame.join.html) are the docs for joining tables. \n",
    "\n",
    "Does it appear that country had an impact on conversion?  Don't forget to create dummy variables for these country columns - **Hint: You will need two columns for the three dummy varaibles.** Provide the statistical output as well as a written response to answer this question."
   ]
  },
  {
   "cell_type": "code",
   "execution_count": 48,
   "metadata": {},
   "outputs": [
    {
     "data": {
      "text/html": [
       "<div>\n",
       "<style>\n",
       "    .dataframe thead tr:only-child th {\n",
       "        text-align: right;\n",
       "    }\n",
       "\n",
       "    .dataframe thead th {\n",
       "        text-align: left;\n",
       "    }\n",
       "\n",
       "    .dataframe tbody tr th {\n",
       "        vertical-align: top;\n",
       "    }\n",
       "</style>\n",
       "<table border=\"1\" class=\"dataframe\">\n",
       "  <thead>\n",
       "    <tr style=\"text-align: right;\">\n",
       "      <th></th>\n",
       "      <th>user_id</th>\n",
       "      <th>timestamp</th>\n",
       "      <th>group</th>\n",
       "      <th>landing_page</th>\n",
       "      <th>converted</th>\n",
       "      <th>new_page</th>\n",
       "      <th>ab_page</th>\n",
       "      <th>intercept</th>\n",
       "      <th>country</th>\n",
       "      <th>UK</th>\n",
       "      <th>US</th>\n",
       "    </tr>\n",
       "  </thead>\n",
       "  <tbody>\n",
       "    <tr>\n",
       "      <th>0</th>\n",
       "      <td>661590</td>\n",
       "      <td>2017-01-11 16:55:06.154213</td>\n",
       "      <td>treatment</td>\n",
       "      <td>new_page</td>\n",
       "      <td>0</td>\n",
       "      <td>1</td>\n",
       "      <td>1</td>\n",
       "      <td>1</td>\n",
       "      <td>US</td>\n",
       "      <td>0</td>\n",
       "      <td>1</td>\n",
       "    </tr>\n",
       "    <tr>\n",
       "      <th>1</th>\n",
       "      <td>853541</td>\n",
       "      <td>2017-01-08 18:28:03.143765</td>\n",
       "      <td>treatment</td>\n",
       "      <td>new_page</td>\n",
       "      <td>0</td>\n",
       "      <td>1</td>\n",
       "      <td>1</td>\n",
       "      <td>1</td>\n",
       "      <td>US</td>\n",
       "      <td>0</td>\n",
       "      <td>1</td>\n",
       "    </tr>\n",
       "    <tr>\n",
       "      <th>2</th>\n",
       "      <td>679687</td>\n",
       "      <td>2017-01-19 03:26:46.940749</td>\n",
       "      <td>treatment</td>\n",
       "      <td>new_page</td>\n",
       "      <td>1</td>\n",
       "      <td>1</td>\n",
       "      <td>1</td>\n",
       "      <td>1</td>\n",
       "      <td>CA</td>\n",
       "      <td>0</td>\n",
       "      <td>0</td>\n",
       "    </tr>\n",
       "    <tr>\n",
       "      <th>3</th>\n",
       "      <td>817355</td>\n",
       "      <td>2017-01-04 17:58:08.979471</td>\n",
       "      <td>treatment</td>\n",
       "      <td>new_page</td>\n",
       "      <td>1</td>\n",
       "      <td>1</td>\n",
       "      <td>1</td>\n",
       "      <td>1</td>\n",
       "      <td>UK</td>\n",
       "      <td>1</td>\n",
       "      <td>0</td>\n",
       "    </tr>\n",
       "    <tr>\n",
       "      <th>4</th>\n",
       "      <td>839785</td>\n",
       "      <td>2017-01-15 18:11:06.610965</td>\n",
       "      <td>treatment</td>\n",
       "      <td>new_page</td>\n",
       "      <td>1</td>\n",
       "      <td>1</td>\n",
       "      <td>1</td>\n",
       "      <td>1</td>\n",
       "      <td>CA</td>\n",
       "      <td>0</td>\n",
       "      <td>0</td>\n",
       "    </tr>\n",
       "  </tbody>\n",
       "</table>\n",
       "</div>"
      ],
      "text/plain": [
       "   user_id                   timestamp      group landing_page  converted  \\\n",
       "0   661590  2017-01-11 16:55:06.154213  treatment     new_page          0   \n",
       "1   853541  2017-01-08 18:28:03.143765  treatment     new_page          0   \n",
       "2   679687  2017-01-19 03:26:46.940749  treatment     new_page          1   \n",
       "3   817355  2017-01-04 17:58:08.979471  treatment     new_page          1   \n",
       "4   839785  2017-01-15 18:11:06.610965  treatment     new_page          1   \n",
       "\n",
       "   new_page  ab_page  intercept country  UK  US  \n",
       "0         1        1          1      US   0   1  \n",
       "1         1        1          1      US   0   1  \n",
       "2         1        1          1      CA   0   0  \n",
       "3         1        1          1      UK   1   0  \n",
       "4         1        1          1      CA   0   0  "
      ]
     },
     "execution_count": 48,
     "metadata": {},
     "output_type": "execute_result"
    }
   ],
   "source": [
    "#loading the country dataframe\n",
    "df_country = pd.read_csv('countries.csv')\n",
    "df_country.head()\n",
    "\n",
    "#Merging Country dataframe wwith original dataframe\n",
    "df2 = df2.merge(df_country)\n",
    "\n",
    "\n",
    "#creating dummy variables for Country\n",
    "df2[['CA','UK','US']] = pd.get_dummies(df2['country'])\n",
    "\n",
    "#Dropping eXtra column to make it FULL RANK matrix\n",
    "df2.drop('CA', axis=1,inplace=True)\n",
    "\n",
    "df2.head()"
   ]
  },
  {
   "cell_type": "code",
   "execution_count": 49,
   "metadata": {},
   "outputs": [
    {
     "name": "stdout",
     "output_type": "stream",
     "text": [
      "Optimization terminated successfully.\n",
      "         Current function value: 0.366115\n",
      "         Iterations 6\n"
     ]
    }
   ],
   "source": [
    "#instantiating the model\n",
    "log_mod_country = sm.Logit(df2['converted'],df2[['intercept','US','UK']])\n",
    "\n",
    "#Fit the model\n",
    "results = log_mod_country.fit()\n"
   ]
  },
  {
   "cell_type": "code",
   "execution_count": 50,
   "metadata": {},
   "outputs": [
    {
     "data": {
      "text/html": [
       "<table class=\"simpletable\">\n",
       "<caption>Logit Regression Results</caption>\n",
       "<tr>\n",
       "  <th>Dep. Variable:</th>     <td>converted</td>    <th>  No. Observations:  </th>   <td>290585</td>   \n",
       "</tr>\n",
       "<tr>\n",
       "  <th>Model:</th>               <td>Logit</td>      <th>  Df Residuals:      </th>   <td>290582</td>   \n",
       "</tr>\n",
       "<tr>\n",
       "  <th>Method:</th>               <td>MLE</td>       <th>  Df Model:          </th>   <td>     2</td>   \n",
       "</tr>\n",
       "<tr>\n",
       "  <th>Date:</th>          <td>Tue, 27 Mar 2018</td> <th>  Pseudo R-squ.:     </th>  <td>1.521e-05</td> \n",
       "</tr>\n",
       "<tr>\n",
       "  <th>Time:</th>              <td>06:20:53</td>     <th>  Log-Likelihood:    </th> <td>-1.0639e+05</td>\n",
       "</tr>\n",
       "<tr>\n",
       "  <th>converged:</th>           <td>True</td>       <th>  LL-Null:           </th> <td>-1.0639e+05</td>\n",
       "</tr>\n",
       "<tr>\n",
       "  <th> </th>                      <td> </td>        <th>  LLR p-value:       </th>   <td>0.1983</td>   \n",
       "</tr>\n",
       "</table>\n",
       "<table class=\"simpletable\">\n",
       "<tr>\n",
       "      <td></td>         <th>coef</th>     <th>std err</th>      <th>z</th>      <th>P>|z|</th>  <th>[0.025</th>    <th>0.975]</th>  \n",
       "</tr>\n",
       "<tr>\n",
       "  <th>intercept</th> <td>   -2.0375</td> <td>    0.026</td> <td>  -78.364</td> <td> 0.000</td> <td>   -2.088</td> <td>   -1.987</td>\n",
       "</tr>\n",
       "<tr>\n",
       "  <th>US</th>        <td>    0.0408</td> <td>    0.027</td> <td>    1.518</td> <td> 0.129</td> <td>   -0.012</td> <td>    0.093</td>\n",
       "</tr>\n",
       "<tr>\n",
       "  <th>UK</th>        <td>    0.0507</td> <td>    0.028</td> <td>    1.786</td> <td> 0.074</td> <td>   -0.005</td> <td>    0.106</td>\n",
       "</tr>\n",
       "</table>"
      ],
      "text/plain": [
       "<class 'statsmodels.iolib.summary.Summary'>\n",
       "\"\"\"\n",
       "                           Logit Regression Results                           \n",
       "==============================================================================\n",
       "Dep. Variable:              converted   No. Observations:               290585\n",
       "Model:                          Logit   Df Residuals:                   290582\n",
       "Method:                           MLE   Df Model:                            2\n",
       "Date:                Tue, 27 Mar 2018   Pseudo R-squ.:               1.521e-05\n",
       "Time:                        06:20:53   Log-Likelihood:            -1.0639e+05\n",
       "converged:                       True   LL-Null:                   -1.0639e+05\n",
       "                                        LLR p-value:                    0.1983\n",
       "==============================================================================\n",
       "                 coef    std err          z      P>|z|      [0.025      0.975]\n",
       "------------------------------------------------------------------------------\n",
       "intercept     -2.0375      0.026    -78.364      0.000      -2.088      -1.987\n",
       "US             0.0408      0.027      1.518      0.129      -0.012       0.093\n",
       "UK             0.0507      0.028      1.786      0.074      -0.005       0.106\n",
       "==============================================================================\n",
       "\"\"\""
      ]
     },
     "execution_count": 50,
     "metadata": {},
     "output_type": "execute_result"
    }
   ],
   "source": [
    "#Displaying the model summary\n",
    "results.summary()"
   ]
  },
  {
   "cell_type": "code",
   "execution_count": 51,
   "metadata": {},
   "outputs": [
    {
     "data": {
      "text/plain": [
       "(1.0416437559600236, 1.0520072437650141)"
      ]
     },
     "execution_count": 51,
     "metadata": {},
     "output_type": "execute_result"
    }
   ],
   "source": [
    "np.exp(0.0408),np.exp(0.0507)"
   ]
  },
  {
   "cell_type": "markdown",
   "metadata": {},
   "source": []
  },
  {
   "cell_type": "markdown",
   "metadata": {},
   "source": [
    "h. Though you have now looked at the individual factors of country and page on conversion, we would now like to look at an interaction between page and country to see if there significant effects on conversion.  Create the necessary additional columns, and fit the new model.  \n",
    "\n",
    "Provide the summary results, and your conclusions based on the results."
   ]
  },
  {
   "cell_type": "code",
   "execution_count": 52,
   "metadata": {},
   "outputs": [
    {
     "name": "stdout",
     "output_type": "stream",
     "text": [
      "Optimization terminated successfully.\n",
      "         Current function value: 0.366112\n",
      "         Iterations 6\n"
     ]
    },
    {
     "data": {
      "text/html": [
       "<table class=\"simpletable\">\n",
       "<caption>Logit Regression Results</caption>\n",
       "<tr>\n",
       "  <th>Dep. Variable:</th>     <td>converted</td>    <th>  No. Observations:  </th>   <td>290585</td>   \n",
       "</tr>\n",
       "<tr>\n",
       "  <th>Model:</th>               <td>Logit</td>      <th>  Df Residuals:      </th>   <td>290581</td>   \n",
       "</tr>\n",
       "<tr>\n",
       "  <th>Method:</th>               <td>MLE</td>       <th>  Df Model:          </th>   <td>     3</td>   \n",
       "</tr>\n",
       "<tr>\n",
       "  <th>Date:</th>          <td>Tue, 27 Mar 2018</td> <th>  Pseudo R-squ.:     </th>  <td>2.324e-05</td> \n",
       "</tr>\n",
       "<tr>\n",
       "  <th>Time:</th>              <td>06:22:21</td>     <th>  Log-Likelihood:    </th> <td>-1.0639e+05</td>\n",
       "</tr>\n",
       "<tr>\n",
       "  <th>converged:</th>           <td>True</td>       <th>  LL-Null:           </th> <td>-1.0639e+05</td>\n",
       "</tr>\n",
       "<tr>\n",
       "  <th> </th>                      <td> </td>        <th>  LLR p-value:       </th>   <td>0.1758</td>   \n",
       "</tr>\n",
       "</table>\n",
       "<table class=\"simpletable\">\n",
       "<tr>\n",
       "      <td></td>         <th>coef</th>     <th>std err</th>      <th>z</th>      <th>P>|z|</th>  <th>[0.025</th>    <th>0.975]</th>  \n",
       "</tr>\n",
       "<tr>\n",
       "  <th>intercept</th> <td>   -2.0300</td> <td>    0.027</td> <td>  -76.249</td> <td> 0.000</td> <td>   -2.082</td> <td>   -1.978</td>\n",
       "</tr>\n",
       "<tr>\n",
       "  <th>new_page</th>  <td>   -0.0150</td> <td>    0.011</td> <td>   -1.308</td> <td> 0.191</td> <td>   -0.037</td> <td>    0.007</td>\n",
       "</tr>\n",
       "<tr>\n",
       "  <th>US</th>        <td>    0.0408</td> <td>    0.027</td> <td>    1.516</td> <td> 0.130</td> <td>   -0.012</td> <td>    0.093</td>\n",
       "</tr>\n",
       "<tr>\n",
       "  <th>UK</th>        <td>    0.0506</td> <td>    0.028</td> <td>    1.784</td> <td> 0.074</td> <td>   -0.005</td> <td>    0.106</td>\n",
       "</tr>\n",
       "</table>"
      ],
      "text/plain": [
       "<class 'statsmodels.iolib.summary.Summary'>\n",
       "\"\"\"\n",
       "                           Logit Regression Results                           \n",
       "==============================================================================\n",
       "Dep. Variable:              converted   No. Observations:               290585\n",
       "Model:                          Logit   Df Residuals:                   290581\n",
       "Method:                           MLE   Df Model:                            3\n",
       "Date:                Tue, 27 Mar 2018   Pseudo R-squ.:               2.324e-05\n",
       "Time:                        06:22:21   Log-Likelihood:            -1.0639e+05\n",
       "converged:                       True   LL-Null:                   -1.0639e+05\n",
       "                                        LLR p-value:                    0.1758\n",
       "==============================================================================\n",
       "                 coef    std err          z      P>|z|      [0.025      0.975]\n",
       "------------------------------------------------------------------------------\n",
       "intercept     -2.0300      0.027    -76.249      0.000      -2.082      -1.978\n",
       "new_page      -0.0150      0.011     -1.308      0.191      -0.037       0.007\n",
       "US             0.0408      0.027      1.516      0.130      -0.012       0.093\n",
       "UK             0.0506      0.028      1.784      0.074      -0.005       0.106\n",
       "==============================================================================\n",
       "\"\"\""
      ]
     },
     "execution_count": 52,
     "metadata": {},
     "output_type": "execute_result"
    }
   ],
   "source": [
    "log_mod_country_page = sm.Logit(df2['converted'],df2[['intercept','new_page','US','UK']])\n",
    "results = log_mod_country_page.fit()\n",
    "\n",
    "results.summary()"
   ]
  },
  {
   "cell_type": "code",
   "execution_count": 32,
   "metadata": {},
   "outputs": [
    {
     "data": {
      "text/plain": [
       "(0.98461950675173293, 1.0363448963818249, 1.0459232623526911)"
      ]
     },
     "execution_count": 32,
     "metadata": {},
     "output_type": "execute_result"
    }
   ],
   "source": [
    "np.exp(-0.0150), np.exp(0.0408),np.exp(0.0506\n",
    "                                      )"
   ]
  },
  {
   "cell_type": "code",
   "execution_count": 53,
   "metadata": {},
   "outputs": [
    {
     "data": {
      "text/plain": [
       "(1.0151130646157189, 1.0363448963818249, 1.0459232623526911)"
      ]
     },
     "execution_count": 53,
     "metadata": {},
     "output_type": "execute_result"
    }
   ],
   "source": [
    "1/np.exp(-0.0150),np.exp(0.0357),np.exp(0.0449)"
   ]
  },
  {
   "cell_type": "markdown",
   "metadata": {},
   "source": [
    "<a id='conclusions'></a>\n",
    "## Conclusions\n",
    "\n",
    "1. From A/B test results, it can be concluded that we fail to reject the NULL hypothesis. That means, new page is no better than old page.\n",
    "\n",
    "2. From Regression results,it can be predicted that User on old page is 1.01 times more likely to get converted as compared  new page in future.\n",
    "Also, Conversion rate of users belonging to US and UK is more that users residing in Canada.\n",
    "\n",
    "### Gather Submission Materials\n",
    "\n",
    "Once you are satisfied with the status of your Notebook, you should save it in a format that will make it easy for others to read. You can use the __File -> Download as -> HTML (.html)__ menu to save your notebook as an .html file. If you are working locally and get an error about \"No module name\", then open a terminal and try installing the missing module using `pip install <module_name>` (don't include the \"<\" or \">\" or any words following a period in the module name).\n",
    "\n",
    "You will submit both your original Notebook and an HTML or PDF copy of the Notebook for review. There is no need for you to include any data files with your submission. If you made reference to other websites, books, and other resources to help you in solving tasks in the project, make sure that you document them. It is recommended that you either add a \"Resources\" section in a Markdown cell at the end of the Notebook report, or you can include a `readme.txt` file documenting your sources.\n",
    "\n",
    "### Submit the Project\n",
    "\n",
    "When you're ready, click on the \"Submit Project\" button to go to the project submission page. You can submit your files as a .zip archive or you can link to a GitHub repository containing your project files. If you go with GitHub, note that your submission will be a snapshot of the linked repository at time of submission. It is recommended that you keep each project in a separate repository to avoid any potential confusion: if a reviewer gets multiple folders representing multiple projects, there might be confusion regarding what project is to be evaluated.\n",
    "\n",
    "It can take us up to a week to grade the project, but in most cases it is much faster. You will get an email once your submission has been reviewed. If you are having any problems submitting your project or wish to check on the status of your submission, please email us at dataanalyst-project@udacity.com. In the meantime, you should feel free to continue on with your learning journey by continuing on to the next module in the program."
   ]
  },
  {
   "cell_type": "code",
   "execution_count": null,
   "metadata": {},
   "outputs": [],
   "source": []
  }
 ],
 "metadata": {
  "kernelspec": {
   "display_name": "Python 3",
   "language": "python",
   "name": "python3"
  },
  "language_info": {
   "codemirror_mode": {
    "name": "ipython",
    "version": 3
   },
   "file_extension": ".py",
   "mimetype": "text/x-python",
   "name": "python",
   "nbconvert_exporter": "python",
   "pygments_lexer": "ipython3",
   "version": "3.6.3"
  }
 },
 "nbformat": 4,
 "nbformat_minor": 2
}
